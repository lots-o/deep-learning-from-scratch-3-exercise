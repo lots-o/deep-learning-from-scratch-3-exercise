{
 "cells": [
  {
   "attachments": {},
   "cell_type": "markdown",
   "metadata": {},
   "source": [
    "# 제1 고지 : 미분 자동 계산 \n",
    "## STEP 7 : 역전파 자동화\n",
    "![image.png](../assets/%EA%B7%B8%EB%A6%BC%207-1.png)\n",
    "- 이 전에는 역전파 계산 코드를 수동으로 조합해야 했다. 이 과정은 번거롭기 때문에 자동화 하려 한다.\n",
    "- 즉, 순전파 계산을 한 번 진행하면 어떤 계산이라도 상관없이 역전파가 이루어지는 구조를 만든다.\n",
    "- **Define-by-Run :** 딥러닝 에서 수행하는 계산들을 **계산 시점에 연결하는 방식**으로 **동적 계산 그래프**"
   ]
  },
  {
   "attachments": {},
   "cell_type": "markdown",
   "metadata": {},
   "source": [
    "### 7.1 역전파 자동화의 시작 \n",
    "\n",
    "![image.png](../assets/%EA%B7%B8%EB%A6%BC%207-2.png)\n",
    "- 변수와 함수의 관계를 이해하는 것이 중요\n",
    "    - `함수 입장`에서 바라본 변수 : 입력 과 출력\n",
    "    - `변수 입장`에서 바라본 함수 : 변수를 만들어 내는 creator"
   ]
  },
  {
   "cell_type": "code",
   "execution_count": 14,
   "metadata": {},
   "outputs": [],
   "source": [
    "import numpy as np \n",
    "class Variable:\n",
    "    def __init__(self, data: np.ndarray) -> None:\n",
    "        self.data = data\n",
    "        self.grad = None  # gradient\n",
    "        self.creator = None  # creator\n",
    "\n",
    "    def set_creator(self, func) -> None:\n",
    "        self.creator = func"
   ]
  },
  {
   "cell_type": "code",
   "execution_count": 16,
   "metadata": {},
   "outputs": [],
   "source": [
    "class Function:\n",
    "    \"\"\"\n",
    "    Function Base Class\n",
    "    \"\"\"\n",
    "\n",
    "    def __call__(self, input: Variable) -> Variable:\n",
    "        x = input.data\n",
    "        y = self.forward(x)\n",
    "        self.input = input  # 역전파 계산을 위해 입력변수 보관 \n",
    "        ################################\n",
    "        output = Variable(y)\n",
    "        output.set_creator(self)  # 출력 변수에 creator 설정 ( 연결을 동적으로 만드는 핵심)\n",
    "        self.output = output  # 출력도 저장\n",
    "        ################################\n",
    "        return output"
   ]
  },
  {
   "attachments": {},
   "cell_type": "markdown",
   "metadata": {},
   "source": [
    "![계산 그래프 역추적 ](../assets/%EA%B7%B8%EB%A6%BC%207-3.png)"
   ]
  },
  {
   "cell_type": "code",
   "execution_count": 17,
   "metadata": {},
   "outputs": [],
   "source": [
    "x = Variable(np.array(0.5))\n",
    "A = Square()\n",
    "B = Exp()\n",
    "C = Square()\n",
    "\n",
    "a = A(x)\n",
    "b = B(a)\n",
    "y = C(b)\n",
    "\n",
    "# 함수 ~ 변수 연결 테스트\n",
    "assert y.creator == C\n",
    "assert y.creator.input == b\n",
    "assert y.creator.input.creator == B\n",
    "assert y.creator.input.creator.input == a\n",
    "assert y.creator.input.creator.input.creator == A\n",
    "assert y.creator.input.creator.input.creator.input == x"
   ]
  },
  {
   "attachments": {},
   "cell_type": "markdown",
   "metadata": {},
   "source": [
    "### 7.2 역전파 도전\n",
    "- 변수와 함수의 관계를 이용하여 역전파를 계산하는 과정은 크게 3가지로 이루어진다.\n",
    "    1. 함수를 가져온다 \n",
    "    2. 함수의 입력을 가져온다\n",
    "    3. 함수의 `backward()` 를 호출한다\n",
    "\n"
   ]
  },
  {
   "attachments": {},
   "cell_type": "markdown",
   "metadata": {},
   "source": [
    "<img src='../assets/%EA%B7%B8%EB%A6%BC%207-4.png' align='center' width='50%'>"
   ]
  },
  {
   "cell_type": "code",
   "execution_count": 28,
   "metadata": {},
   "outputs": [],
   "source": [
    "## b.grad\n",
    "y.grad = np.array(1.0)\n",
    "C = y.creator  ## 1. 함수를 가져온다\n",
    "b = C.input  ## 2. 함수의 입력을 가져온다\n",
    "b.grad = C.backward(y.grad)  ## 3. 역전파를 계산한다\n"
   ]
  },
  {
   "attachments": {},
   "cell_type": "markdown",
   "metadata": {},
   "source": [
    "<img src='../assets/%EA%B7%B8%EB%A6%BC%207-5.png' align='center' width='50%'>"
   ]
  },
  {
   "cell_type": "code",
   "execution_count": 30,
   "metadata": {},
   "outputs": [],
   "source": [
    "## a.grad\n",
    "B = b.creator  ## 1. 함수를 가져온다\n",
    "a = B.input  ## 2. 함수의 입력을 가져온다\n",
    "a.grad = B.backward(b.grad)  ## 3. 역전파를 계산한다\n"
   ]
  },
  {
   "attachments": {},
   "cell_type": "markdown",
   "metadata": {},
   "source": [
    "<img src='../assets/%EA%B7%B8%EB%A6%BC%207-6.png' align='center' width='50%'>"
   ]
  },
  {
   "cell_type": "code",
   "execution_count": 32,
   "metadata": {},
   "outputs": [],
   "source": [
    "## x.grad\n",
    "A = a.creator  ## 1. 함수를 가져온다\n",
    "x = A.input  ## 2. 함수의 입력을 가져온다\n",
    "x.grad = A.backward(a.grad)  ## 3. 역전파를 계산한다"
   ]
  },
  {
   "attachments": {},
   "cell_type": "markdown",
   "metadata": {},
   "source": [
    "### 7.3 backward 메서드 추가\n",
    "- 위의 똑같은 처리 흐름을 자동화 하기 위해 `Variable` 클래스에 `backward()` 추가"
   ]
  },
  {
   "cell_type": "code",
   "execution_count": 21,
   "metadata": {},
   "outputs": [],
   "source": [
    "class Variable:\n",
    "    def __init__(self, data: np.ndarray) -> None:\n",
    "        self.data = data\n",
    "        self.grad = None  # gradient\n",
    "        self.creator = None  # creator\n",
    "\n",
    "    def set_creator(self, func) -> None:\n",
    "        self.creator = func\n",
    "\n",
    "    def backward(self):\n",
    "        \"\"\"\n",
    "        자동 역전파\n",
    "        \"\"\"\n",
    "        f = self.creator  # 1. 함수를 가져온다\n",
    "        if f is not None:\n",
    "            x = f.input  # 2. 함수의 입력을 가져온다\n",
    "            x.grad = f.backward(self.grad)  # 3. 역전파를 계산한다\n",
    "            x.backward()  # 하나 앞 변수의 backward 메서드를 호출한다 (재귀)\n",
    "        # NOTE : 만약 creator가 None 이면 역전파가 중단된다. creator가 없으므로 해당 Variable 인스턴스는 함수 바깥에서 생성됐음을 뜻한다."
   ]
  },
  {
   "cell_type": "code",
   "execution_count": 35,
   "metadata": {},
   "outputs": [
    {
     "name": "stdout",
     "output_type": "stream",
     "text": [
      "3.297442541400256\n"
     ]
    }
   ],
   "source": [
    "# 자동화된 역전파 \n",
    "x = Variable(np.array(0.5))\n",
    "A = Square()\n",
    "B = Exp()\n",
    "C = Square()\n",
    "\n",
    "a = A(x)\n",
    "b = B(a)\n",
    "y = C(b)\n",
    "\n",
    "# 역전파\n",
    "y.grad = np.array(1.0)\n",
    "y.backward()\n",
    "print(x.grad)"
   ]
  },
  {
   "attachments": {},
   "cell_type": "markdown",
   "metadata": {},
   "source": [
    "### 코드"
   ]
  },
  {
   "cell_type": "code",
   "execution_count": 36,
   "metadata": {},
   "outputs": [
    {
     "name": "stdout",
     "output_type": "stream",
     "text": [
      "수동 역전파 : 3.297442541400256\n",
      "자동 역전파 : 3.297442541400256\n"
     ]
    }
   ],
   "source": [
    "import torch\n",
    "import numpy as np\n",
    "import torch.nn as nn\n",
    "\n",
    "\n",
    "class Variable:\n",
    "    def __init__(self, data: np.ndarray) -> None:\n",
    "        self.data = data\n",
    "        self.grad = None  # gradient\n",
    "        self.creator = None  # creator\n",
    "\n",
    "    def set_creator(self, func) -> None:\n",
    "        self.creator = func\n",
    "\n",
    "    def backward(self):\n",
    "        \"\"\"\n",
    "        자동 역전파\n",
    "        \"\"\"\n",
    "        f = self.creator  # 1. 함수를 가져온다\n",
    "        if f is not None:\n",
    "            x = f.input  # 2. 함수의 입력을 가져온다\n",
    "            x.grad = f.backward(self.grad)  # 3. 역전파를 계산한다\n",
    "            x.backward()  # 하나 앞 변수의 backward 메서드를 호출한다 (재귀)\n",
    "        # NOTE : 만약 creator가 None 이면 역전파가 중단된다. creator가 없으므로 해당 Variable 인스턴스는 함수 바깥에서 생성됐음을 뜻한다.\n",
    "\n",
    "\n",
    "class Function:\n",
    "    \"\"\"\n",
    "    Function Base Class\n",
    "\n",
    "    \"\"\"\n",
    "\n",
    "    def __call__(self, input: Variable) -> Variable:\n",
    "        x = input.data\n",
    "        y = self.forward(x)\n",
    "        self.input = input  # 역전파 계산을 위해 입력변수 보관\n",
    "        output = Variable(y)\n",
    "        output.set_creator(self)  # 출력 변수에 creator 설정 ( 연결을 동적으로 만드는 핵심)\n",
    "        self.output = output  # 출력도 저장\n",
    "\n",
    "        return output\n",
    "\n",
    "    def forward(self, x: np.ndarray) -> np.ndarray:\n",
    "        \"\"\"\n",
    "        구체적인 함수 계산 담당\n",
    "        \"\"\"\n",
    "        raise NotImplementedError()\n",
    "\n",
    "    def backward(self, gy: np.ndarray) -> np.ndarray:\n",
    "        \"\"\"\n",
    "        역전파\n",
    "        \"\"\"\n",
    "        raise NotImplementedError()\n",
    "\n",
    "\n",
    "class Square(Function):\n",
    "    \"\"\"\n",
    "    y= x ^ 2\n",
    "    \"\"\"\n",
    "\n",
    "    def forward(self, x: np.ndarray) -> np.ndarray:\n",
    "        return x**2\n",
    "\n",
    "    def backward(self, gy: np.ndarray) -> np.ndarray:\n",
    "        x = self.input.data\n",
    "        gx = 2 * x * gy\n",
    "        return gx\n",
    "\n",
    "\n",
    "class Exp(Function):\n",
    "    \"\"\"\n",
    "    y=e ^ x\n",
    "    \"\"\"\n",
    "\n",
    "    def forward(self, x: np.ndarray) -> np.ndarray:\n",
    "        return np.exp(x)\n",
    "\n",
    "    def backward(self, gy: np.ndarray) -> np.ndarray:\n",
    "        x = self.input.data\n",
    "        gx = np.exp(x) * gy\n",
    "        return gx\n",
    "\n",
    "\n",
    "class Sigmoid(Function):\n",
    "    \"\"\"\n",
    "    y = 1 / (1 + e ^(-x))\n",
    "    \"\"\"\n",
    "\n",
    "    def forward(self, x: np.ndarray) -> np.ndarray:\n",
    "        return 1 / (1 + np.exp(-x))\n",
    "\n",
    "    def backward(self, gy: np.ndarray) -> np.ndarray:\n",
    "        \"\"\"\n",
    "        d/dx sigmoid(x) = sigmoid(x)(1-sigmoid(x))\n",
    "        \"\"\"\n",
    "        x = self.input.data\n",
    "        sigmoid = lambda x: 1 / (1 + np.exp(-x))\n",
    "        return gy * sigmoid(x) * (1 - sigmoid(x))\n",
    "\n",
    "\n",
    "class Tanh(Function):\n",
    "    \"\"\"\n",
    "    y= ( e^x - e^{-x} ) / ( e^x + e^{-x} )\n",
    "    \"\"\"\n",
    "\n",
    "    def forward(self, x: np.ndarray) -> np.ndarray:\n",
    "        return (np.exp(x) - np.exp(-x)) / (np.exp(x) + np.exp(-x))\n",
    "\n",
    "    def backward(self, gy: np.ndarray) -> np.ndarray:\n",
    "        \"\"\"\n",
    "        d/dx tanh(x) = 1-tanh(x)^2\n",
    "        \"\"\"\n",
    "        x = self.input.data\n",
    "        tanh = lambda x: (np.exp(x) - np.exp(-x)) / (np.exp(x) + np.exp(-x))\n",
    "        return gy * (1 - tanh(x) ** 2)\n",
    "\n",
    "\n",
    "# Dezero\n",
    "\n",
    "x = Variable(np.array(0.5))\n",
    "A = Square()\n",
    "B = Exp()\n",
    "C = Square()\n",
    "\n",
    "a = A(x)\n",
    "b = B(a)\n",
    "y = C(b)\n",
    "\n",
    "# 함수 ~ 변수 연결 테스트\n",
    "assert y.creator == C\n",
    "assert y.creator.input == b\n",
    "assert y.creator.input.creator == B\n",
    "assert y.creator.input.creator.input == a\n",
    "assert y.creator.input.creator.input.creator == A\n",
    "assert y.creator.input.creator.input.creator.input == x\n",
    "\n",
    "\n",
    "# 함수 ~ 변수 연결을 통한 역전파\n",
    "## 수동 역전파\n",
    "## 1. 함수를 가져온다\n",
    "## 2. 함수의 입력을 가져온다\n",
    "## 3. 역전파를 계산한다\n",
    "\n",
    "## b.grad\n",
    "y.grad = np.array(1.0)\n",
    "C = y.creator  ## 1. 함수를 가져온다\n",
    "b = C.input  ## 2. 함수의 입력을 가져온다\n",
    "b.grad = C.backward(y.grad)  ## 3. 역전파를 계산한다\n",
    "\n",
    "\n",
    "## a.grad\n",
    "B = b.creator  ## 1. 함수를 가져온다\n",
    "a = B.input  ## 2. 함수의 입력을 가져온다\n",
    "a.grad = B.backward(b.grad)  ## 3. 역전파를 계산한다\n",
    "\n",
    "## x.grad\n",
    "A = a.creator  ## 1. 함수를 가져온다\n",
    "x = A.input  ## 2. 함수의 입력을 가져온다\n",
    "x.grad = A.backward(a.grad)  ## 3. 역전파를 계산한다\n",
    "\n",
    "print(f\"수동 역전파 : {x.grad}\")\n",
    "\n",
    "\n",
    "## 자동 역전파\n",
    "y.backward()\n",
    "print(f\"자동 역전파 : {x.grad}\")"
   ]
  },
  {
   "cell_type": "code",
   "execution_count": 37,
   "metadata": {},
   "outputs": [
    {
     "name": "stdout",
     "output_type": "stream",
     "text": [
      "Dezero : 0.09112821805819912\n",
      "PyTorch : tensor([0.0911])\n"
     ]
    }
   ],
   "source": [
    "# Dezero ~ Pytorch\n",
    "## Dezero\n",
    "x = Variable(np.array(1.0))\n",
    "A = Tanh()\n",
    "B = Sigmoid()\n",
    "a = A(x)\n",
    "b = B(a)\n",
    "b.grad = np.array(1.0)\n",
    "b.backward()\n",
    "print(f\"Dezero : {x.grad}\")\n",
    "\n",
    "## Pytorch\n",
    "x = torch.tensor([1.0], requires_grad=True)\n",
    "A = nn.Tanh()\n",
    "B = nn.Sigmoid()\n",
    "a = A(x)\n",
    "b = B(a)\n",
    "b.backward() \n",
    "print(f\"PyTorch : {x.grad}\")"
   ]
  }
 ],
 "metadata": {
  "kernelspec": {
   "display_name": "DL-torch",
   "language": "python",
   "name": "python3"
  },
  "language_info": {
   "codemirror_mode": {
    "name": "ipython",
    "version": 3
   },
   "file_extension": ".py",
   "mimetype": "text/x-python",
   "name": "python",
   "nbconvert_exporter": "python",
   "pygments_lexer": "ipython3",
   "version": "3.8.12 | packaged by conda-forge | (default, Oct 12 2021, 21:21:17) \n[Clang 11.1.0 ]"
  },
  "orig_nbformat": 4,
  "vscode": {
   "interpreter": {
    "hash": "3584091cda227b8e59fda59e5fdf3aec4997f3a2464c55243d7618073e2ad776"
   }
  }
 },
 "nbformat": 4,
 "nbformat_minor": 2
}
