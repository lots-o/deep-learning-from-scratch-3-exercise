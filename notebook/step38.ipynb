{
 "cells": [
  {
   "attachments": {},
   "cell_type": "markdown",
   "metadata": {},
   "source": [
    "# 제4 고지 : 신경망 만들기 \n",
    "## STEP 38 : 형상 변환 함수\n",
    "\n",
    "이전 단계에서는 텐서를 사용한 원소별 연산에 대해 살펴봤다. 이번엔 **원소별로 계산하지 않는 함수**에 대해 살펴볼텐데, 그 첫걸음으로 다음 두가지 함수를 구현한다.\n",
    "\n",
    "1. `reshape` 함수\n",
    "2. `transpose` 함수\n",
    "\n",
    "\n",
    "### 38.1 reshape 함수 구현\n",
    "\n",
    "구현하기 앞서 넘파이의 reshape 사용법을 살펴보면 다음과 같다.\n",
    "\n",
    "```python\n",
    "import numpy as np \n",
    "\n",
    "x = np.array([[1,2,3],[4,5,6]])\n",
    "y = np.reshape(x,(6,))\n",
    "print(y)\n",
    "# [1 2 3 4 5 6]\n",
    "```\n",
    "\n",
    "위의 코드에서 알 수 있듯이 **원소 수는 같고 형상만 바뀐다.**  이제 이와 같이 DeZero를 구현할텐데, 문제는 **역전파를 어떻게 계산할지** 이다.  \n",
    "(**계산을 원소별로 하지 않는 함수는 텐서의 형상을 고려**해야 한다.)\n",
    "\n",
    "앞서 살펴봤듯이 `reshape` 함수는 단순히 형상만 변환하며 구체적인 계산은 하지 않는다. 따라서 **역전파는 출력쪽에서 전해지는 기울기를 단순히 입력쪽으로만 흘려보내준다.**  \n",
    "이때, 다음 그림과 같이 **기울기의 형상이 형상을 변환하기전의 입력의 형상과 같도록 변환하여 흘려보내준다.**\n",
    "\n",
    "\n",
    "![img](../assets/%EA%B7%B8%EB%A6%BC%2038-1.png)\n",
    "\n",
    "구체적으로 다음 과정을 따를 수 있도록 한다.\n",
    "\n",
    "1. `Reshape` 클래스를 초기화할때 변형 목표가 되는 형상 `shape` 정보를 가지고 있는다.\n",
    "2. `forward` 시 넘파이의 `reshape` 함수를 사용하여 형상을 변환한다. 이때, `self.x_shape = x.shape`로 입력의 형상을 기억해둔다.\n",
    "3. `backward` 시 기억해둔 `self.x_shape` 를 바탕으로 **기울기 형상이 형상을 변환하기전의 입력의 형상과 같도록 변환**하여 흘려보낸다.\n",
    "\n",
    "```python\n",
    "class Reshape(Function):\n",
    "    def __init__(self,shape) -> None:\n",
    "        self.shape = shape \n",
    "        \n",
    "    def forward(self,x):\n",
    "        self.x_shape = x.shape #\n",
    "        y = x.reshape(self.shape)\n",
    "        return y \n",
    "    \n",
    "    def backward(self, gy):\n",
    "        return reshape(gy,self.x_shape)\n",
    "    \n",
    "def reshape(x,shape):\n",
    "    # x : ndarray or Variable\n",
    "    if x.shape == shape:\n",
    "        # ndarray 인 경우 variable\n",
    "        return as_variable(x)\n",
    "    return Reshape(shape)(x)\n",
    "```\n",
    "\n",
    "함수를 구현함에 있어 꼭 기억해야할 것은 DeZero함수는 **항상 `Variable`  또는 `ndarray` 인스턴스를 입력받아 `Variable` 인스턴스를 반환**한다는 것이다.  \n",
    "`Function` 클래스를 상속한 함수라면 `__call__` 메서드에서 `ndarray` 인스턴스는 자동으로 `Variable` 인스턴스로 변환된다.\n",
    "\n",
    "예제를 통해 실제로 어떻게 데이터가 흐르는지 확인해보면 다음 그림과 같다.\n",
    "\n",
    "![img](../assets/%EA%B7%B8%EB%A6%BC%2038-2.png)\n"
   ]
  },
  {
   "cell_type": "code",
   "execution_count": 1,
   "metadata": {},
   "outputs": [
    {
     "name": "stdout",
     "output_type": "stream",
     "text": [
      "variable([[1 1 1]\n",
      "          [1 1 1]])\n"
     ]
    }
   ],
   "source": [
    "import sys \n",
    "sys.path.append(\"..\")\n",
    "\n",
    "import numpy as np \n",
    "from dezero import Variable\n",
    "import dezero.functions as F \n",
    "\n",
    "x = Variable(np.array([[1,2,3],[4,5,6]]))\n",
    "y = F.reshape(x,(6,))\n",
    "y.backward(retain_grad=True)\n",
    "print(x.grad)\n",
    "\n"
   ]
  },
  {
   "attachments": {},
   "cell_type": "markdown",
   "metadata": {},
   "source": [
    "### 38.2 Variable에서 reshape 사용하기\n",
    "\n",
    "이제는 `reshape` 함수를 더 편하게 만들기 위해서 다음 예시의 넘파이의 `reshape` 와 비슷하게 만드는 작업을 한다.\n",
    "\n",
    "```python\n",
    "import numpy as np \n",
    "x = np.random.rand(1,2,3) # 1 x 2 x 3 \n",
    "\n",
    "y = x.reshape((2,3)) # 튜플로 받기\n",
    "y = x.reshape([2,3]) # 리스트로 받기\n",
    "y = x.reshape(2,3) # 인수 그대로 풀어서 받기 \n",
    "```\n",
    "\n",
    "이를 위해 `Variable` 클래스에 다음 코드를 추가한다.\n",
    "```python\n",
    "import dezero\n",
    "class Variable:\n",
    "    ...\n",
    "    def reshape(self, *shape):\n",
    "        if len(shape) == 1 and isinstance(shape[0], (tuple, list)):\n",
    "            shape = shape[0]\n",
    "        return dezero.functions.reshape(self, shape)  # 순환 임포트를 피하기 위해 F.reshape 로 작성하지 않는다.\n",
    "```\n"
   ]
  },
  {
   "cell_type": "code",
   "execution_count": 2,
   "metadata": {},
   "outputs": [
    {
     "name": "stdout",
     "output_type": "stream",
     "text": [
      "variable([[[ 0.89794014 -1.11045713 -0.05856688]\n",
      "           [ 1.22089265 -0.54260328  0.61546125]]])\n",
      "==================================================\n",
      "variable([[ 0.89794014 -1.11045713 -0.05856688]\n",
      "          [ 1.22089265 -0.54260328  0.61546125]])\n",
      "variable([[ 0.89794014 -1.11045713 -0.05856688]\n",
      "          [ 1.22089265 -0.54260328  0.61546125]])\n"
     ]
    }
   ],
   "source": [
    "x = Variable(np.random.randn(1,2,3))\n",
    "print(x)\n",
    "print(\"=\"*50)\n",
    "y= x.reshape((2,3))\n",
    "print(y)\n",
    "y = x.reshape(2,3)\n",
    "print(y)"
   ]
  },
  {
   "attachments": {},
   "cell_type": "markdown",
   "metadata": {},
   "source": [
    "### 38.3 행렬의 전치 \n",
    "\n",
    "이어서 다음 그림과 같이 행렬의 전치 함수를 구현한다.\n",
    "\n",
    "![img](../assets/%EA%B7%B8%EB%A6%BC%2038-3.png)\n",
    "\n",
    "전치함수 역시 넘파이에서 사용가능하며, `reshape` 함수와 같이 단순히 기울기의 형상만 순전파때와 **'반대'** 형태로 변환하여 구현한다.\n",
    "\n",
    "```python\n",
    "class Transpose(Function):\n",
    "    def forward(self,x):\n",
    "        y = np.transpose(x)\n",
    "        return y \n",
    "    \n",
    "    def backward(self, gy):\n",
    "        gx = transpose(gy)\n",
    "        return gx \n",
    "    \n",
    "def transpose(x):\n",
    "    return Transpose()(x)\n",
    "```"
   ]
  },
  {
   "cell_type": "code",
   "execution_count": 3,
   "metadata": {},
   "outputs": [
    {
     "name": "stdout",
     "output_type": "stream",
     "text": [
      "variable([[1 1 1]\n",
      "          [1 1 1]])\n"
     ]
    }
   ],
   "source": [
    "import numpy as np \n",
    "from dezero import Variable\n",
    "import dezero.functions as F \n",
    "\n",
    "x = Variable(np.array([[1,2,3],[4,5,6]]))\n",
    "y = F.transpose(x)\n",
    "y.backward()\n",
    "print(x.grad)\n",
    "\n"
   ]
  },
  {
   "attachments": {},
   "cell_type": "markdown",
   "metadata": {},
   "source": [
    "또한 `Variable` 인스턴스에서도 transpose를 활용할 수 있도록 다음 코드를 추가한다.\n",
    "```python\n",
    "import dezero\n",
    "class Variable:\n",
    "    ...\n",
    "    def transpose(self):\n",
    "        return dezero.functions.transpose(self)\n",
    "\n",
    "    @property\n",
    "    def T(self):\n",
    "        return dezero.functions.transpose(self)\n",
    "```"
   ]
  },
  {
   "cell_type": "code",
   "execution_count": 4,
   "metadata": {},
   "outputs": [
    {
     "name": "stdout",
     "output_type": "stream",
     "text": [
      "variable([[0.61362762 0.17949527 0.22263542]\n",
      "          [0.07592891 0.10039808 0.54400071]])\n",
      "==================================================\n",
      "variable([[0.61362762 0.07592891]\n",
      "          [0.17949527 0.10039808]\n",
      "          [0.22263542 0.54400071]])\n",
      "variable([[0.61362762 0.07592891]\n",
      "          [0.17949527 0.10039808]\n",
      "          [0.22263542 0.54400071]])\n"
     ]
    }
   ],
   "source": [
    "x = Variable(np.random.rand(2,3))\n",
    "print(x)\n",
    "print(\"=\"*50)\n",
    "y = x.transpose()\n",
    "print(y)\n",
    "y = x.T\n",
    "print(y)"
   ]
  },
  {
   "attachments": {},
   "cell_type": "markdown",
   "metadata": {},
   "source": [
    "### 38.4 [보충] 실제 transpose 함수\n",
    "\n",
    "넘파이의 `np.transpose` 는 좀 더 범용적으로 활용할 수 있는데, 예를 들어 다음과 같이 **축의 데이터 순서를 바꿀 수 있다.**\n",
    "\n",
    "![img](../assets/%EA%B7%B8%EB%A6%BC%2038-4.png)\n",
    "\n",
    "이와 같이 축의 순서를 지정하면, 그에 맞게 데이터 축이 달라지며 인수를 `None`(=`x.transpose()`) 이면 **축이 역순으로 정렬되어 행렬이 전치**된다.\n",
    "이를 반영하기 위해 다음 코드와 같이 수정한다.\n",
    "\n",
    "```python\n",
    "class Transpose(Function):\n",
    "    def __init__(self, axes=None):\n",
    "        self.axes = axes # 축 정보\n",
    "\n",
    "    def forward(self, x):\n",
    "        y = x.transpose(self.axes)\n",
    "        return y\n",
    "\n",
    "    def backward(self, gy):\n",
    "        if self.axes is None:\n",
    "            # 축 정보가 없는 경우에는 기존 방식대로 행렬 전치\n",
    "            return transpose(gy)\n",
    "\n",
    "        axes_len = len(self.axes)\n",
    "        inv_axes = tuple(np.argsort([ax % axes_len for ax in self.axes]))\n",
    "        \n",
    "        return transpose(gy, inv_axes)\n",
    "\n",
    "\n",
    "def transpose(x, axes=None):\n",
    "    return Transpose(axes)(x)\n",
    "\n",
    "```\n",
    "\n",
    "```python\n",
    "import dezero\n",
    "class Variable:\n",
    "    ...\n",
    "    \n",
    "    def transpose(self, *axes):\n",
    "        if len(axes) == 0:\n",
    "            axes = None\n",
    "        elif len(axes) == 1:\n",
    "            if isinstance(axes[0], (tuple, list)) or axes[0] is None:\n",
    "                axes = axes[0]\n",
    "        return dezero.functions.transpose(self, axes)\n",
    "\n",
    "```"
   ]
  },
  {
   "cell_type": "code",
   "execution_count": 5,
   "metadata": {},
   "outputs": [],
   "source": [
    "A,B,C,D = 1,2,3,4\n",
    "x = np.random.rand(1,2,3,4)\n",
    "y = x.transpose(1,0,3,2)"
   ]
  },
  {
   "cell_type": "code",
   "execution_count": 6,
   "metadata": {},
   "outputs": [
    {
     "name": "stdout",
     "output_type": "stream",
     "text": [
      "variable([[[[0.54983874 0.18918963 0.21769689 0.52316755]\n",
      "            [0.70752064 0.50749211 0.50430095 0.88532736]\n",
      "            [0.39712598 0.37166476 0.59555308 0.10658218]]\n",
      "         \n",
      "           [[0.17447957 0.99566373 0.36200139 0.22022387]\n",
      "            [0.92652781 0.77512771 0.58905322 0.04673174]\n",
      "            [0.52486712 0.21461378 0.05619512 0.83308894]]]])\n",
      "==================================================\n",
      "variable([[[[0.54983874 0.70752064 0.39712598]\n",
      "            [0.18918963 0.50749211 0.37166476]\n",
      "            [0.21769689 0.50430095 0.59555308]\n",
      "            [0.52316755 0.88532736 0.10658218]]]\n",
      "         \n",
      "         \n",
      "          [[[0.17447957 0.92652781 0.52486712]\n",
      "            [0.99566373 0.77512771 0.21461378]\n",
      "            [0.36200139 0.58905322 0.05619512]\n",
      "            [0.22022387 0.04673174 0.83308894]]]])\n"
     ]
    }
   ],
   "source": [
    "x = Variable(np.random.rand(1,2,3,4))\n",
    "print(x)\n",
    "print(\"=\"*50)\n",
    "y = x.transpose(1,0,3,2)\n",
    "print(y)"
   ]
  }
 ],
 "metadata": {
  "kernelspec": {
   "display_name": "DL-torch",
   "language": "python",
   "name": "python3"
  },
  "language_info": {
   "codemirror_mode": {
    "name": "ipython",
    "version": 3
   },
   "file_extension": ".py",
   "mimetype": "text/x-python",
   "name": "python",
   "nbconvert_exporter": "python",
   "pygments_lexer": "ipython3",
   "version": "3.8.12"
  },
  "orig_nbformat": 4,
  "vscode": {
   "interpreter": {
    "hash": "3584091cda227b8e59fda59e5fdf3aec4997f3a2464c55243d7618073e2ad776"
   }
  }
 },
 "nbformat": 4,
 "nbformat_minor": 2
}
