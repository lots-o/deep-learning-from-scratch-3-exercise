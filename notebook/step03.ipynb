{
 "cells": [
  {
   "attachments": {},
   "cell_type": "markdown",
   "metadata": {},
   "source": [
    "# 제1 고지 : 미분 자동 계산 \n",
    "## STEP 3 : 함수 연결\n",
    "![image.png](../assets/%EA%B7%B8%EB%A6%BC%203-1.png)\n",
    "- 여러 함수를 순서대로 적용한다면 하나의 함수, 즉 **합성 함수(composite function)**\n",
    "- $A(x) = x^2,B(x) = e^x,C(x)=x^2$ 이라고 가정한다면  $C(B(A(x)))=(e^{x^2})^2$\n",
    "- 합성 함수의 이점은 복잡한 함수식 이더라도 순차적인 각 함수의 계산을 통해 계산을 쉽게 할 수 있다\n"
   ]
  },
  {
   "cell_type": "code",
   "execution_count": 5,
   "metadata": {},
   "outputs": [],
   "source": [
    "import torch\n",
    "import numpy as np\n",
    "import torch.nn as nn\n",
    "\n",
    "\n",
    "class Variable:\n",
    "    def __init__(self, data: np.ndarray) -> None:\n",
    "        self.data = data\n",
    "        \n",
    "class Function:\n",
    "    \"\"\"\n",
    "    Function Base Class\n",
    "    \"\"\"\n",
    "\n",
    "    def __call__(self, input: Variable) -> Variable:\n",
    "        x = input.data # 입력 변수 \n",
    "        y = self.forward(x) # 구체적 계산\n",
    "        return Variable(y) # 출력 변수\n",
    "\n",
    "    def forward(self, x):\n",
    "        \"\"\"\n",
    "        구체적인 함수 계산 담당\n",
    "\t\t# NOTE : 0차원의 ndarray 의 경우 np.float64로 변환되는데(넘파이가 의도한 동작) 추후 step09 에서 처리\n",
    "        \"\"\"\n",
    "        raise NotImplementedError\n",
    "\n",
    "\n",
    "class Exp(Function):\n",
    "    \"\"\"\n",
    "    y=e ^ x\n",
    "    \"\"\"\n",
    "\n",
    "    def forward(self, x: np.ndarray) -> np.ndarray:\n",
    "        return np.exp(x)\n",
    "\n",
    "class Square(Function):\n",
    "    \"\"\"\n",
    "    y= x ^ 2\n",
    "    \"\"\"\n",
    "\n",
    "    def forward(self, x: np.ndarray) -> np.ndarray:\n",
    "        return x**2\n",
    "\n",
    "\n",
    "class Sigmoid(Function):\n",
    "    \"\"\"\n",
    "    y = 1 / (1 + e ^(-x))\n",
    "    \"\"\"\n",
    "\n",
    "    def forward(self, x: np.ndarray) -> np.ndarray:\n",
    "        return 1 / (1 + np.exp(-x))\n",
    "\n",
    "\n",
    "class Tanh(Function):\n",
    "    \"\"\"\n",
    "    y= ( e^x - e^{-x} ) / ( e^x + e^{-x} )\n",
    "    \"\"\"\n",
    "\n",
    "    def forward(self, x: np.ndarray) -> np.ndarray:\n",
    "        return (np.exp(x) - np.exp(-x)) / (np.exp(x) + np.exp(-x))"
   ]
  },
  {
   "cell_type": "code",
   "execution_count": 6,
   "metadata": {},
   "outputs": [
    {
     "name": "stdout",
     "output_type": "stream",
     "text": [
      "1.648721270700128\n"
     ]
    }
   ],
   "source": [
    "# Dezero\n",
    "A = Square()\n",
    "B = Exp()\n",
    "C = Square()\n",
    "\n",
    "x = Variable(np.array(0.5))\n",
    "a = A(x)\n",
    "b = B(a)\n",
    "c = C(b)\n",
    "\n",
    "print(c.data)\n"
   ]
  },
  {
   "cell_type": "code",
   "execution_count": 7,
   "metadata": {},
   "outputs": [
    {
     "name": "stdout",
     "output_type": "stream",
     "text": [
      "Dezero : 0.6816997421945262\n",
      "PyTorch : tensor([0.6817])\n"
     ]
    }
   ],
   "source": [
    "# Dezero ~ Pytorch\n",
    "## Dezero\n",
    "x = Variable(np.array(1))\n",
    "A = Tanh()\n",
    "B = Sigmoid()\n",
    "a = A(x)\n",
    "b = B(a)\n",
    "print(f\"Dezero : {b.data}\")\n",
    "\n",
    "## Pytorch\n",
    "x = torch.Tensor([1])\n",
    "A = nn.Tanh()\n",
    "B = nn.Sigmoid()\n",
    "a = A(x)\n",
    "b = B(a)\n",
    "print(f\"PyTorch : {b.data}\")"
   ]
  }
 ],
 "metadata": {
  "kernelspec": {
   "display_name": "DL-torch",
   "language": "python",
   "name": "python3"
  },
  "language_info": {
   "codemirror_mode": {
    "name": "ipython",
    "version": 3
   },
   "file_extension": ".py",
   "mimetype": "text/x-python",
   "name": "python",
   "nbconvert_exporter": "python",
   "pygments_lexer": "ipython3",
   "version": "3.8.12"
  },
  "orig_nbformat": 4,
  "vscode": {
   "interpreter": {
    "hash": "3584091cda227b8e59fda59e5fdf3aec4997f3a2464c55243d7618073e2ad776"
   }
  }
 },
 "nbformat": 4,
 "nbformat_minor": 2
}
