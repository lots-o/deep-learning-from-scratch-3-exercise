{
 "cells": [
  {
   "attachments": {},
   "cell_type": "markdown",
   "metadata": {},
   "source": [
    "# 제2 고지 : 자연스러운  코드로 \n",
    "## STEP 14 : 같은 변수 반복 사용\n",
    "\n",
    "\n",
    "![image.png](../assets/%EA%B7%B8%EB%A6%BC%2014-1.png)\n",
    "\n",
    "현재까지의 코드는 아래와 같이 **동일한 변수를 반복 사용**할 경우 의도대로 동작하지 않을 수 있다는 문제가 있다.\n"
   ]
  },
  {
   "cell_type": "code",
   "execution_count": null,
   "metadata": {},
   "outputs": [],
   "source": [
    "import numpy as np\n",
    "\n",
    "\n",
    "def as_array(x):\n",
    "\n",
    "    \"\"\"\n",
    "    0차원 ndarray / ndarray가 아닌 경우\n",
    "    \"\"\"\n",
    "    if np.isscalar(x):\n",
    "        return np.array(x)\n",
    "    return x\n",
    "\n",
    "\n",
    "class Variable:\n",
    "    def __init__(self, data: np.ndarray) -> None:\n",
    "        if data is not None:\n",
    "            if not isinstance(data, np.ndarray):\n",
    "                raise TypeError(f\"{type(data)}은(는) 지원하지 않습니다.\")\n",
    "        self.data = data\n",
    "        self.grad = None  # gradient\n",
    "        self.creator = None  # creator\n",
    "\n",
    "    def set_creator(self, func) -> None:\n",
    "        self.creator = func\n",
    "\n",
    "    def backward(self):\n",
    "        \"\"\"\n",
    "        자동 역전파 (반복)\n",
    "        \"\"\"\n",
    "        if self.grad is None:\n",
    "            self.grad = np.ones_like(self.data)\n",
    "        funcs = [self.creator]\n",
    "        while funcs:\n",
    "            f = funcs.pop()  \n",
    "            #######################################\n",
    "            gys = [output.grad for output in f.outputs] # 1. 순전파의 결과가 **여러개의 출력인 경우**를 처리 \n",
    "            gxs = f.backward(*gys) # 2. 역전파 기준 **여러 개의 입력(=순전파의 여러 개 출력)** 을 처리.\n",
    "            if not isinstance(gxs,tuple): # 3. 역전파 **결과값이 하나인 경우(=역전파의 출력이 1개인 경우)** 튜플로 변환.\n",
    "                gxs = (gxs,)\n",
    "            for x,gx in zip(f.inputs,gxs): # 4. **역전파 결과가 여러개의 출력인 경우** 각각 대응\n",
    "                x.grad = gx \n",
    "                if x.creator is not None:\n",
    "                    funcs.append(x.creator)  # 하나 앞의 함수를 리스트에 추가한다\n",
    "            #######################################\n",
    "\n",
    "\n",
    "class Function:\n",
    "    \"\"\"\n",
    "    Function Base Class\n",
    "\n",
    "    \"\"\"\n",
    "\n",
    "    def __call__(self, *inputs):  #  1. * 를  활용하여 임의 개수의 인수\n",
    "        xs = [x.data for x in inputs]\n",
    "        #####################################\n",
    "        ys = self.forward(*xs) # 1. 리스트 언팩\n",
    "        if not isinstance(ys,tuple): # 2. 튜플이 아닌 경우 추가 지원 \n",
    "            ys = (ys,)\n",
    "        #####################################\n",
    "        outputs = [Variable(as_array(y)) for y in ys]\n",
    "\n",
    "        for output in outputs:\n",
    "            output.set_creator(self)\n",
    "        self.inputs = inputs\n",
    "        self.outputs = outputs\n",
    "\n",
    "        # 2. 리스트의 원소가  하나라면  첫번째 원소를 반환\n",
    "        return outputs if len(outputs) > 1 else outputs[0]\n",
    "\n",
    "    def forward(self, xs):\n",
    "        \"\"\"\n",
    "        구체적인 함수 계산 담당\n",
    "        \"\"\"\n",
    "        raise NotImplementedError()\n",
    "\n",
    "    def backward(self, gys):\n",
    "        \"\"\"\n",
    "        역전파\n",
    "        \"\"\"\n",
    "        raise NotImplementedError()\n",
    "\n",
    "\n",
    "class Add(Function):\n",
    "    def forward(self, x0,x1):\n",
    "        y = x0 + x1\n",
    "        return y\n",
    "    def backward(self, gy):\n",
    "        # 역전파시 , 입력이 1개 , 출력이 2개 \n",
    "        return gy,gy \n",
    "    \n",
    "def add(x0,x1):\n",
    "    return Add()(x0,x1)\n",
    "\n",
    "class Square(Function):\n",
    "    def forward(self, x):\n",
    "        y= x**2 \n",
    "        return y \n",
    "    def backward(self, gy):\n",
    "        x = self.inputs[0].data  #  수정 전 : x= self.input.data\n",
    "        gx = 2 * x * gy \n",
    "        return gx \n",
    "    \n",
    "def square(x):\n",
    "    return Square()(x)\n",
    "\n"
   ]
  },
  {
   "attachments": {},
   "cell_type": "markdown",
   "metadata": {},
   "source": [
    "$$\n",
    "y= x+x\n",
    "\\Rightarrow \\frac{\\partial y}{\\partial x} = 2\n",
    "$$"
   ]
  },
  {
   "cell_type": "code",
   "execution_count": 6,
   "metadata": {},
   "outputs": [
    {
     "name": "stdout",
     "output_type": "stream",
     "text": [
      "y : 6.0\n",
      "x.grad : 1.0\n"
     ]
    }
   ],
   "source": [
    "x = Variable(np.array(3.0))\n",
    "y = add(x,x)\n",
    "print(f\"y : {y.data}\")\n",
    "y.backward()\n",
    "print(f\"x.grad : {x.grad}\") # 잘못된 결과값 "
   ]
  },
  {
   "attachments": {},
   "cell_type": "markdown",
   "metadata": {},
   "source": [
    "### 14.1 문제의 원인\n",
    "![image.png](../assets/%EA%B7%B8%EB%A6%BC%2014-2.png)\n",
    "\n",
    "- 동일한 변수 반복 사용시 `backward()` 에서 전파되는 미분값이 **덮어 써진다.**\n",
    "- 이를 해결 하기 위해 전파되는 미분값의 **합** 을 구해야 한다."
   ]
  },
  {
   "attachments": {},
   "cell_type": "markdown",
   "metadata": {},
   "source": [
    "### 14.2 해결책"
   ]
  },
  {
   "cell_type": "code",
   "execution_count": 7,
   "metadata": {},
   "outputs": [],
   "source": [
    "class Variable:\n",
    "    def __init__(self, data: np.ndarray) -> None:\n",
    "        if data is not None:\n",
    "            if not isinstance(data, np.ndarray):\n",
    "                raise TypeError(f\"{type(data)}은(는) 지원하지 않습니다.\")\n",
    "        self.data = data\n",
    "        self.grad = None  # gradient\n",
    "        self.creator = None  # creator\n",
    "\n",
    "    def set_creator(self, func) -> None:\n",
    "        self.creator = func\n",
    "\n",
    "    def backward(self):\n",
    "        \"\"\"\n",
    "        자동 역전파 (반복)\n",
    "        \"\"\"\n",
    "        if self.grad is None:\n",
    "            self.grad = np.ones_like(self.data)\n",
    "        funcs = [self.creator]\n",
    "        while funcs:\n",
    "            f = funcs.pop()  \n",
    "            gys = [output.grad for output in f.outputs] # 1. 순전파의 결과가 **여러개의 출력인 경우**를 처리 \n",
    "            gxs = f.backward(*gys) # 2. 역전파 기준 **여러 개의 입력(=순전파의 여러 개 출력)** 을 처리.\n",
    "            if not isinstance(gxs,tuple): # 3. 역전파 **결과값이 하나인 경우(=역전파의 출력이 1개인 경우)** 튜플로 변환.\n",
    "                gxs = (gxs,)\n",
    "            for x,gx in zip(f.inputs,gxs): # 4. **역전파 결과가 여러개의 출력인 경우** 각각 대응\n",
    "                ##################\n",
    "                #  첫 grad를 설정시에는 `그대로` 출력하고, \n",
    "                if x.grad is None : \n",
    "                    x.grad = gx \n",
    "                # 다음 미분은 기존 미분 값에 `더해준다.`\n",
    "                else :\n",
    "                    ## NOTE :  in-place 연산 (x.grad+=gx) 을 하지 않는 이유는 **메모리 참조**로 원하지 않는 값 변동이 일어 날 수 있다.\n",
    "                    x.grad = x.grad + gx \n",
    "                \n",
    "                #####################\n",
    "                \n",
    "                if x.creator is not None:\n",
    "                    funcs.append(x.creator)  # 하나 앞의 함수를 리스트에 추가한다\n",
    "\n"
   ]
  },
  {
   "attachments": {},
   "cell_type": "markdown",
   "metadata": {},
   "source": [
    "여기서 주목해야 할것은 \n",
    "```python\n",
    "x.grad = x.grad + gx  # NOTE: x.grad+=gx (in-place 연산) 을 사용하지 않도록 한다\n",
    "```\n",
    "인데, `in-place 연산`을 사용하지 않는 이유는 **메모리 참조**로 원하지 않는 값의 변동이 일어 날 수 있기 때문이다. \n",
    "\n",
    "구체적으로 아래의 예를 살펴보면, `in-place 연산`시 **메모리 위치는 동일하고, 값만 바뀌는 것**을 확인할 수 있다.\n",
    "물론 메모리 효율적인 측면에서는 `in-place 연산`이 문제가 없는 상황이라면 바람직하겠지만, 현재는 **메모리를 참조하는 다른 변수의 미분값이 바뀔수 있으므로, 새로운 값을 복사해서 사용**해야 한다."
   ]
  },
  {
   "cell_type": "code",
   "execution_count": 11,
   "metadata": {},
   "outputs": [
    {
     "name": "stdout",
     "output_type": "stream",
     "text": [
      "4437014160\n",
      "4437014160\n",
      "4783135824\n"
     ]
    }
   ],
   "source": [
    "x=np.array(1)\n",
    "print(id(x))\n",
    "\n",
    "x+=x #  in-place 연산 \n",
    "print(id(x))\n",
    "\n",
    "x = x+x # 복사 \n",
    "print(id(x))"
   ]
  },
  {
   "cell_type": "code",
   "execution_count": 12,
   "metadata": {},
   "outputs": [],
   "source": [
    "class Variable:\n",
    "    def __init__(self, data: np.ndarray) -> None:\n",
    "        if data is not None:\n",
    "            if not isinstance(data, np.ndarray):\n",
    "                raise TypeError(f\"{type(data)}은(는) 지원하지 않습니다.\")\n",
    "        self.data = data\n",
    "        self.grad = None  # gradient\n",
    "        self.creator = None  # creator\n",
    "\n",
    "    def set_creator(self, func) -> None:\n",
    "        self.creator = func\n",
    "\n",
    "    def backward(self):\n",
    "        \"\"\"\n",
    "        자동 역전파 (반복)\n",
    "        \"\"\"\n",
    "        if self.grad is None:\n",
    "            self.grad = np.ones_like(self.data)\n",
    "        funcs = [self.creator]\n",
    "        while funcs:\n",
    "            f = funcs.pop()  \n",
    "            gys = [output.grad for output in f.outputs] # 1. 순전파의 결과가 **여러개의 출력인 경우**를 처리 \n",
    "            gxs = f.backward(*gys) # 2. 역전파 기준 **여러 개의 입력(=순전파의 여러 개 출력)** 을 처리.\n",
    "            if not isinstance(gxs,tuple): # 3. 역전파 **결과값이 하나인 경우(=역전파의 출력이 1개인 경우)** 튜플로 변환.\n",
    "                gxs = (gxs,)\n",
    "            for x,gx in zip(f.inputs,gxs): # 4. **역전파 결과가 여러개의 출력인 경우** 각각 대응\n",
    "                ##################\n",
    "                #  첫 grad를 설정시에는 `그대로` 출력하고, \n",
    "                if x.grad is None : \n",
    "                    x.grad = gx \n",
    "                # 다음 미분은 기존 미분 값에 `더해준다.`\n",
    "                else :\n",
    "                    ## NOTE :  만약 inplace연산을 사용한다면 어떻게 될까?\n",
    "                    x.grad +=gx\n",
    "                \n",
    "                #####################\n",
    "                \n",
    "                if x.creator is not None:\n",
    "                    funcs.append(x.creator)  # 하나 앞의 함수를 리스트에 추가한다\n"
   ]
  },
  {
   "cell_type": "code",
   "execution_count": 15,
   "metadata": {},
   "outputs": [
    {
     "name": "stdout",
     "output_type": "stream",
     "text": [
      "y : 6.0\n",
      "in-place 연산 x.grad : 2.0(4436751408)\n",
      "in-place 연산 y.grad : 2.0(4436751408), 정확한 y.grad: 1.0\n"
     ]
    }
   ],
   "source": [
    "x = Variable(np.array(3.0))\n",
    "y = add(x,x)\n",
    "print(f\"y : {y.data}\")\n",
    "y.backward()\n",
    "print(f\"in-place 연산 x.grad : {x.grad}({id(x)})\") \n",
    "print(f\"in-place 연산 y.grad : {y.grad}({id(x)}), 정확한 y.grad: {1.0}\")  # 메모리 참조로 잘못된 값 출력"
   ]
  },
  {
   "attachments": {},
   "cell_type": "markdown",
   "metadata": {},
   "source": [
    "### 14.3 미분값 재설정\n",
    "하지만, 역전파시 미분값을 더해주도록 코드를 수정함에 따라 또 다른 문제가 발생하는데, **동일한 변수**를 사용하여 **다른 계산** 을 할 경우 계산이 꼬인다.\n",
    "이를 해결하기 위해 미분값을 초기화 해주는 `cleargrad()` 를 추가한다."
   ]
  },
  {
   "cell_type": "code",
   "execution_count": 16,
   "metadata": {},
   "outputs": [],
   "source": [
    "class Variable:\n",
    "    def __init__(self, data: np.ndarray) -> None:\n",
    "        if data is not None:\n",
    "            if not isinstance(data, np.ndarray):\n",
    "                raise TypeError(f\"{type(data)}은(는) 지원하지 않습니다.\")\n",
    "        self.data = data\n",
    "        self.grad = None  # gradient\n",
    "        self.creator = None  # creator\n",
    "\n",
    "    def set_creator(self, func) -> None:\n",
    "        self.creator = func\n",
    "\n",
    "    def backward(self):\n",
    "        \"\"\"\n",
    "        자동 역전파 (반복)\n",
    "        \"\"\"\n",
    "        if self.grad is None:\n",
    "            self.grad = np.ones_like(self.data)\n",
    "        funcs = [self.creator]\n",
    "        while funcs:\n",
    "            f = funcs.pop()  \n",
    "            gys = [output.grad for output in f.outputs] # 1. 순전파의 결과가 **여러개의 출력인 경우**를 처리 \n",
    "            gxs = f.backward(*gys) # 2. 역전파 기준 **여러 개의 입력(=순전파의 여러 개 출력)** 을 처리.\n",
    "            if not isinstance(gxs,tuple): # 3. 역전파 **결과값이 하나인 경우(=역전파의 출력이 1개인 경우)** 튜플로 변환.\n",
    "                gxs = (gxs,)\n",
    "            for x,gx in zip(f.inputs,gxs): # 4. **역전파 결과가 여러개의 출력인 경우** 각각 대응\n",
    "                ##################\n",
    "                #  첫 grad를 설정시에는 `그대로` 출력하고, \n",
    "                if x.grad is None : \n",
    "                    x.grad = gx \n",
    "                # 다음 미분은 기존 미분 값에 `더해준다.`\n",
    "                else :\n",
    "                    ## NOTE :  in-place 연산 (x.grad+=gx) 을 하지 않는 이유는 **메모리 참조**로 원하지 않는 값 변동이 일어 날 수 있다.\n",
    "                    x.grad = x.grad + gx \n",
    "                \n",
    "                #####################\n",
    "                \n",
    "                if x.creator is not None:\n",
    "                    funcs.append(x.creator)  # 하나 앞의 함수를 리스트에 추가한다\n",
    "\n"
   ]
  },
  {
   "cell_type": "code",
   "execution_count": 23,
   "metadata": {},
   "outputs": [
    {
     "name": "stdout",
     "output_type": "stream",
     "text": [
      "x.grad : 2.0\n",
      "같은 x를 사용하여 다른 계산 수행 x.grad : 5.0, 정확한 x.grad : 3.0\n"
     ]
    }
   ],
   "source": [
    "## 첫 번째 계산\n",
    "x = Variable(np.array(3.0))\n",
    "y = add(x,x)\n",
    "y.backward()\n",
    "print(f\"x.grad : {x.grad}\") \n",
    "\n",
    "## 두 번째 계산 (같은 x를 사용하여 다른 계산을 수행)\n",
    "y = add(add(x,x),x) # y = (x + x) + x\n",
    "y.backward()\n",
    "print(f\"같은 x를 사용하여 다른 계산 수행 x.grad : {x.grad}, 정확한 x.grad : 3.0\") \n"
   ]
  },
  {
   "attachments": {},
   "cell_type": "markdown",
   "metadata": {},
   "source": [
    "이를 해결하기 위해 미분값을 초기화 해주는 `cleargrad()` 를 추가한다."
   ]
  },
  {
   "cell_type": "code",
   "execution_count": 25,
   "metadata": {},
   "outputs": [],
   "source": [
    "class Variable:\n",
    "    def __init__(self, data: np.ndarray) -> None:\n",
    "        if data is not None:\n",
    "            if not isinstance(data, np.ndarray):\n",
    "                raise TypeError(f\"{type(data)}은(는) 지원하지 않습니다.\")\n",
    "        self.data = data\n",
    "        self.grad = None  # gradient\n",
    "        self.creator = None  # creator\n",
    "\n",
    "    def cleargrad(self):\n",
    "        self.grad = None\n",
    "        \n",
    "    def set_creator(self, func) -> None:\n",
    "        self.creator = func\n",
    "\n",
    "    def backward(self):\n",
    "        \"\"\"\n",
    "        자동 역전파 (반복)\n",
    "        \"\"\"\n",
    "        if self.grad is None:\n",
    "            self.grad = np.ones_like(self.data)\n",
    "        funcs = [self.creator]\n",
    "        while funcs:\n",
    "            f = funcs.pop()  \n",
    "            gys = [output.grad for output in f.outputs] # 1. 순전파의 결과가 **여러개의 출력인 경우**를 처리 \n",
    "            gxs = f.backward(*gys) # 2. 역전파 기준 **여러 개의 입력(=순전파의 여러 개 출력)** 을 처리.\n",
    "            if not isinstance(gxs,tuple): # 3. 역전파 **결과값이 하나인 경우(=역전파의 출력이 1개인 경우)** 튜플로 변환.\n",
    "                gxs = (gxs,)\n",
    "            for x,gx in zip(f.inputs,gxs): # 4. **역전파 결과가 여러개의 출력인 경우** 각각 대응\n",
    "                ##################\n",
    "                #  첫 grad를 설정시에는 `그대로` 출력하고, \n",
    "                if x.grad is None : \n",
    "                    x.grad = gx \n",
    "                # 다음 미분은 기존 미분 값에 `더해준다.`\n",
    "                else :\n",
    "                    ## NOTE :  in-place 연산 (x.grad+=gx) 을 하지 않는 이유는 **메모리 참조**로 원하지 않는 값 변동이 일어 날 수 있다.\n",
    "                    x.grad = x.grad + gx \n",
    "                \n",
    "                #####################\n",
    "                \n",
    "                if x.creator is not None:\n",
    "                    funcs.append(x.creator)  # 하나 앞의 함수를 리스트에 추가한다\n",
    "\n"
   ]
  },
  {
   "cell_type": "code",
   "execution_count": 30,
   "metadata": {},
   "outputs": [
    {
     "name": "stdout",
     "output_type": "stream",
     "text": [
      "Dezero x.grad : 2.0\n",
      "Dezero x.grad : 3.0\n",
      "PyTorch x.grad : tensor([2.])\n",
      "PyTorch 미분값 초기화 전 x.grad : tensor([5.]), 정확한 x.grad : 3.0\n",
      "PyTorch 미분값 초기화 후 x.grad : tensor([3.])\n"
     ]
    }
   ],
   "source": [
    "# Dezero ~ PyTorch \n",
    "## Dezero\n",
    "## 첫 번째 계산\n",
    "x = Variable(np.array(3.0))\n",
    "y = add(x,x)\n",
    "y.backward()\n",
    "print(f\"Dezero x.grad : {x.grad}\") \n",
    "\n",
    "## 두 번째 계산 (같은 x를 사용하여 다른 계산을 수행)\n",
    "x.cleargrad() \n",
    "y = add(add(x,x),x) # y = (x + x) + x\n",
    "y.backward()\n",
    "print(f\"Dezero x.grad : {x.grad}\") \n",
    "\n",
    "## PyTorch\n",
    "import torch \n",
    "x = torch.tensor([3.0],requires_grad=True)\n",
    "y = x+x \n",
    "y.backward()\n",
    "print(f\"PyTorch x.grad : {x.grad}\") \n",
    "\n",
    "## 두 번째 계산 (같은 x를 사용하여 다른 계산을 수행)\n",
    "y = x+x+x \n",
    "y.backward()\n",
    "print(f\"PyTorch 미분값 초기화 전 x.grad : {x.grad}, 정확한 x.grad : 3.0\") \n",
    "\n",
    "x.grad.zero_()\n",
    "y = x+x+x # y = (x + x) + x\n",
    "y.backward()\n",
    "print(f\"PyTorch 미분값 초기화 후 x.grad : {x.grad}\") \n",
    "\n"
   ]
  }
 ],
 "metadata": {
  "kernelspec": {
   "display_name": "DL-torch",
   "language": "python",
   "name": "python3"
  },
  "language_info": {
   "codemirror_mode": {
    "name": "ipython",
    "version": 3
   },
   "file_extension": ".py",
   "mimetype": "text/x-python",
   "name": "python",
   "nbconvert_exporter": "python",
   "pygments_lexer": "ipython3",
   "version": "3.8.12"
  },
  "orig_nbformat": 4,
  "vscode": {
   "interpreter": {
    "hash": "3584091cda227b8e59fda59e5fdf3aec4997f3a2464c55243d7618073e2ad776"
   }
  }
 },
 "nbformat": 4,
 "nbformat_minor": 2
}
