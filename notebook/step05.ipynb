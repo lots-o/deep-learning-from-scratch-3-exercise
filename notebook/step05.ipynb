{
 "cells": [
  {
   "attachments": {},
   "cell_type": "markdown",
   "metadata": {},
   "source": [
    "# 제1 고지 : 미분 자동 계산 \n",
    "## STEP 5 : 역전파 이론\n",
    "### 5.1 연쇄 법칙(Chain Rule)\n",
    "![image.png](../assets/%EA%B7%B8%EB%A6%BC%205-1.png)\n",
    "$$\\frac{dy}{dx}=\\frac{dy}{db}\\frac{db}{da}\\frac{da}{dx} = \\frac{dy}{dy}\\frac{dy}{db}\\frac{db}{da}\\frac{da}{dx}$$\n",
    "- 위에서 알수 있듯이 합성함수의 미분은 **구성함수 각각의 미분값을 연쇄적으로 모두 곱한 값**\n",
    "\n",
    "### 5.2 역전파 원리 도출\n",
    "![image.png](../assets/%EA%B7%B8%EB%A6%BC%205-2.png)\n",
    "<p align=\"center\">\n",
    "  <img src=\"../assets/%EA%B7%B8%EB%A6%BC%205-3.png\" align=\"center\" width=\"32%\">\n",
    "  <img src=\"../assets/%EA%B7%B8%EB%A6%BC%205-4.png\" align=\"center\" width=\"32%\">\n",
    "  <figcaption align=\"center\">출력 쪽의 미분부터 순서대로 계산</figcaption>\n",
    "</p>\n",
    "\n",
    "- 위의 그림에서 알 수 있듯이, $y$ 의 각 변수에 대한 미분값이 오른쪽에서 왼쪽으로 전파되는 것을 알 수 있다.\n",
    "- 머신러닝은 주로 대량의 매개변수를 입력받아서 마지막 **손실함수(loss function)** 을 거쳐 출력을 내는 형태로 진행된다. 이때, 손실함수의 출력은 많은 경우 단일한 스칼라값이며, 이 값이 **중요요소** 이다. 즉, 손실함수의 각 매개변수에 대한 미분을 계산해야 한다. 이런 경우 미분값을 출력에서 입력방향으로 전파하면 한 번의 전파만으로 모든 매개변수에 대한 미분을 효율적으로 계산할 수 있다.\n",
    "\n",
    "### 5.3 계산 그래프로 살펴보기\n",
    "![image.png](../assets/%EA%B7%B8%EB%A6%BC%205-5.png)\n",
    "- 순전파 시의 변수 $a$ 는 역전파 시의 미분 $\\frac{dy}{da}$  , $b$ 는 $\\frac{dy}{db}$ , $x$ 는 $\\frac{dy}{dx}$가 대응한다.\n",
    "- 또한 함수 $A$ 는 $A'(x)$ / $B$ 는  $B'(x)$ /  $C$ 는 $C'(x)$ 가 대응한다.\n",
    "- 주목해야 할것은 **역전파를 계산하기 위해서는 순전파 시 이용한 데이터가 필요하다**는 것이다.\n",
    "    - 함수 $C$ 를 살펴보면, $C’(b)$ 를 구하기 위해선 순전파 시 $C$ 에 입력된 $b$ 값이 필요하다.\n",
    "\n",
    "<span style=\"background-color : #ffdce0\">💡 역전파를 계산하기 위해선 <b>순전파 시의 입력값을 기억</b>해둬야 한다.( = 순전파가 진행되야 역전파가 진행될 수 있다)</span>\n"
   ]
  }
 ],
 "metadata": {
  "kernelspec": {
   "display_name": "DL-torch",
   "language": "python",
   "name": "python3"
  },
  "language_info": {
   "codemirror_mode": {
    "name": "ipython",
    "version": 3
   },
   "file_extension": ".py",
   "mimetype": "text/x-python",
   "name": "python",
   "nbconvert_exporter": "python",
   "pygments_lexer": "ipython3",
   "version": "3.8.12 | packaged by conda-forge | (default, Oct 12 2021, 21:21:17) \n[Clang 11.1.0 ]"
  },
  "orig_nbformat": 4,
  "vscode": {
   "interpreter": {
    "hash": "3584091cda227b8e59fda59e5fdf3aec4997f3a2464c55243d7618073e2ad776"
   }
  }
 },
 "nbformat": 4,
 "nbformat_minor": 2
}
