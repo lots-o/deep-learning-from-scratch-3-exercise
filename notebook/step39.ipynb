{
 "cells": [
  {
   "attachments": {},
   "cell_type": "markdown",
   "metadata": {},
   "source": [
    "# 제4 고지 : 신경망 만들기 \n",
    "## STEP 39 : 합계 함수\n",
    "\n",
    "이번 단계에서는 DeZero에 합계를 구하는 `sum`함수를 추가한다. 우선 이전에 구현한 **'덧셈'의 미분을 복습한 후 이를 응용하여 구현**한다.\n",
    "\n",
    "### 39.1 sum 함수의 역전파\n",
    "\n",
    "덧셈함수를 다시 복습하면, $y=x_0+x_1$ 일 때, $\\frac{\\partial y}{\\partial x_0}=1, \\frac{\\partial y}{\\partial x_1}=1$ 이므로 **역전파를 그대로 흘려 보내주기만 했으면 됐다.**\n",
    "\n",
    "<p align='center'>\n",
    "    <img src='../assets/%EA%B7%B8%EB%A6%BC%2039-1.png' align='center' width='50%'>\n",
    "</p>\n",
    "\n",
    "즉, **출력쪽에서 전해준 1 이라는 기울기를 단순히 복사**만 하면되는데, 사실 이는 원소가 $N$개인 벡터를 사용하더라도 다음과 같이 **기울기 벡터 갯수만큼만 복사하여 입력변수의 형상과 같아지도록 하기만 하면 된다.**\n",
    "2개           |  $N$개\n",
    ":-------------------------:|:-------------------------:\n",
    "![](../assets/deep_learning_2_images/fig%201-18.png)  |  ![](../assets/%EA%B7%B8%EB%A6%BC%2039-3.png)\n",
    "![](../assets/%EA%B7%B8%EB%A6%BC%2039-2.png)  |  ![](../assets/deep_learning_2_images/fig%201-22.png)\n",
    "\n",
    "\n",
    "\n",
    "### 39.2 sum 함수 구현\n",
    "\n",
    "DeZero의 `sum` 함수 역전파에서는 입력의 형상과 같아지도록 **기울기의 원소를 '복사'** 한다. 그런데 `Variable` 인스턴스를 사용하므로 복사작업도 DeZero 함수로 구현해야한다. 이를 위해 그 다음 단계 step40. 에서 살펴볼 `broadcast_to` 함수를 미리 사용한다. 해당 함수는 넘파이의 브로드캐스트와 같은 기능으로 **지정한 형상이 되도록 원소를 복사하는 함수**이다.\n",
    "\n",
    "```python\n",
    "class Sum(Function):\n",
    "    def forward(self, x):\n",
    "        self.x_shape=x.shape\n",
    "        y = x.sum()\n",
    "        return y\n",
    "\n",
    "    def backward(self, gy):\n",
    "        gx = broadcast_to(gy, self.x_shape)\n",
    "        return gx\n",
    "\n",
    "\n",
    "def sum(x):\n",
    "    return Sum()(x)\n",
    "```"
   ]
  },
  {
   "cell_type": "code",
   "execution_count": 1,
   "metadata": {},
   "outputs": [
    {
     "name": "stdout",
     "output_type": "stream",
     "text": [
      "variable(21)\n",
      "variable([1 1 1 1 1 1])\n",
      "==========\n",
      "variable(21)\n",
      "variable([[1 1 1]\n",
      "          [1 1 1]])\n"
     ]
    }
   ],
   "source": [
    "import sys \n",
    "sys.path.append(\"..\")\n",
    "\n",
    "import numpy as np \n",
    "from dezero import Variable\n",
    "import dezero.functions as F \n",
    "\n",
    "x = Variable(np.array([1,2,3,4,5,6]))\n",
    "y = F.sum(x)\n",
    "y.backward()\n",
    "print(y)\n",
    "print(x.grad)\n",
    "print(\"=\"*10)\n",
    "\n",
    "x = Variable(np.array([[1,2,3],[4,5,6]]))\n",
    "y = F.sum(x)\n",
    "y.backward()\n",
    "print(y)\n",
    "print(x.grad)\n"
   ]
  },
  {
   "attachments": {},
   "cell_type": "markdown",
   "metadata": {},
   "source": [
    "### 39.3 axis 와 keepdims\n",
    "\n",
    "지금까지 `sum`함수의 기본을 완성했다. 하지만 `np.sum()` 은 **axis와 keepdims 를 이용해 더 정교하게 작동**한다.\n",
    "\n",
    "<p align='center'>\n",
    "    <img src='../assets/%EA%B7%B8%EB%A6%BC%2039-4.png' align='center' width='50%'>\n",
    "    <img src='../assets/%EA%B7%B8%EB%A6%BC%2039-5.png' align='center' width='50%'>\n",
    "</p>\n",
    "\n",
    "`axis` 는 **합계를 구하는 기준 축**으로 **int 외에도 `None`과 `tuple`도 받는다.**\n",
    "\n",
    "- `None`이면 모든 값을 더한 스칼라값을 리턴.\n",
    "- `(0,2)`와 같은 튜플이면 0번과 2번 축 모두에 대한 합계를 리턴.\n",
    "\n",
    "그리고 `keepdims` 는 **축의 수를 유지하여 리턴**한다.\n",
    "\n",
    "\n"
   ]
  },
  {
   "cell_type": "code",
   "execution_count": 2,
   "metadata": {},
   "outputs": [
    {
     "name": "stdout",
     "output_type": "stream",
     "text": [
      "[5 7 9]\n",
      "(2, 3) -> (3,)\n",
      "========== axis=None ==========\n",
      "21\n",
      "(2, 3) -> ()\n",
      "========== axis=(0,1) ==========\n",
      "21\n",
      "(2, 3) -> ()\n",
      "========== keepdims=True ==========\n",
      "[[5 7 9]]\n",
      "(2, 3) -> (1, 3)\n"
     ]
    }
   ],
   "source": [
    "x = np.array([[1,2,3],[4,5,6]])\n",
    "y = np.sum(x,axis=0)\n",
    "print(y)\n",
    "print(x.shape,\"->\",y.shape)\n",
    "\n",
    "print(\"=\"*10,\"axis=None\",\"=\"*10)\n",
    "y = np.sum(x,axis=None)\n",
    "print(y)\n",
    "print(x.shape,\"->\",y.shape)\n",
    "\n",
    "print(\"=\"*10,\"axis=(0,1)\",\"=\"*10)\n",
    "y = np.sum(x,axis=(0,1))\n",
    "print(y)\n",
    "print(x.shape,\"->\",y.shape)\n",
    "\n",
    "print(\"=\"*10,\"keepdims=True\",\"=\"*10)\n",
    "y = np.sum(x,axis=0,keepdims=True)\n",
    "print(y)\n",
    "print(x.shape,\"->\",y.shape)"
   ]
  },
  {
   "attachments": {},
   "cell_type": "markdown",
   "metadata": {},
   "source": [
    "이제 이를 바탕으로 DeZero 또한 `axis` 와 `keepdims`를 받을 수 있도록 `sum` 함수를 수정 구현한다. 또한 `sum` 함수를  `Variable` 에서 사용할 수 있도록 수정한다.\n",
    "\n",
    "```python\n",
    "class Sum(Function):\n",
    "    ####################################\n",
    "    def __init__(self, axis, keepdims):\n",
    "        self.axis = axis\n",
    "        self.keepdims = keepdims\n",
    "    ####################################\n",
    "\n",
    "    def forward(self, x):\n",
    "        self.x_shape = x.shape\n",
    "        ####################################\n",
    "        y = x.sum(axis=self.axis, keepdims=self.keepdims)\n",
    "        ####################################\n",
    "        return y\n",
    "\n",
    "    def backward(self, gy):\n",
    "        ####################################\n",
    "        # 해당 함수는 gy의 형상을 미세하게 조정하는 함수로 넘파이와 관련된 문제이므로 따로 다루지 않는다.\n",
    "        gy = utils.reshape_sum_backward(gy, self.x_shape, self.axis, self.keepdims)\n",
    "        ####################################\n",
    "        gx = broadcast_to(gy, self.x_shape)\n",
    "        return gx\n",
    "\n",
    "####################################\n",
    "def sum(x, axis=None, keepdims=False):\n",
    "    return Sum(axis, keepdims)(x)\n",
    "####################################\n",
    "```\n",
    "\n",
    "```python\n",
    "class Variable:\n",
    "    ...\n",
    "    \n",
    "    def sum(self, axis=None, keepdims=False):\n",
    "        return dezero.functions.sum(self, axis, keepdims)\n",
    "```"
   ]
  },
  {
   "cell_type": "code",
   "execution_count": 8,
   "metadata": {},
   "outputs": [
    {
     "name": "stdout",
     "output_type": "stream",
     "text": [
      "variable([5 7 9])\n",
      "variable([[1 1 1]\n",
      "          [1 1 1]])\n",
      "==========\n",
      "variable([[[[10.31125735]]]])\n",
      "(1, 1, 1, 1)\n"
     ]
    }
   ],
   "source": [
    "x = Variable(np.array([[1,2,3],[4,5,6]]))\n",
    "y = F.sum(x,axis=0)\n",
    "y.backward()\n",
    "print(y)\n",
    "print(x.grad)\n",
    "\n",
    "print(\"=\"*10)\n",
    "\n",
    "x = Variable(np.random.randn(2,3,4,5))\n",
    "y = x.sum(keepdims=True)\n",
    "print(y)\n",
    "print(y.shape)"
   ]
  }
 ],
 "metadata": {
  "kernelspec": {
   "display_name": "DL-torch",
   "language": "python",
   "name": "python3"
  },
  "language_info": {
   "codemirror_mode": {
    "name": "ipython",
    "version": 3
   },
   "file_extension": ".py",
   "mimetype": "text/x-python",
   "name": "python",
   "nbconvert_exporter": "python",
   "pygments_lexer": "ipython3",
   "version": "3.8.12"
  },
  "orig_nbformat": 4,
  "vscode": {
   "interpreter": {
    "hash": "3584091cda227b8e59fda59e5fdf3aec4997f3a2464c55243d7618073e2ad776"
   }
  }
 },
 "nbformat": 4,
 "nbformat_minor": 2
}
