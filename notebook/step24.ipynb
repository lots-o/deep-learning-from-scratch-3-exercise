{
 "cells": [
  {
   "attachments": {},
   "cell_type": "markdown",
   "metadata": {},
   "source": [
    "# 제2 고지 : 자연스러운  코드로 \n",
    "## STEP 24 : 복잡한 함수의 미분 \n",
    "\n",
    "\n",
    "DeZero는 이제 대표적인 연산자들(`+`,`*`,`-`,`/`,`**`) 를 지원한다.  \n",
    "이를 확인하기 위해, 이번 단계에서는 복잡한 수식 몇가지를 테스트 해보려고 한다.  \n",
    "\n",
    "이번 단계에서 다룰 함수들은 **최적화 문제에서 자주 사용되는 테스트 함수**로 **다양한 최적화 기법이 얼마나 좋은지를 판단하는 벤치마크 함수**이다.  \n",
    "테스트 함수에는 종류가 많지만, [다음 페이지](https://en.wikipedia.org/wiki/Test_functions_for_optimization)를 보면 대표적인 예를 확인할 수 있으며, 이 중 3가지 함수( `Sphere`, `Matyas`, `Goldstein-Price` )를 테스트 해본다.\n",
    "\n",
    "<p align='center'>\n",
    "    <img src='../assets/%EA%B7%B8%EB%A6%BC%2024-1.png' align='center' width='32%'>\n",
    "</p>\n",
    "\n",
    "### 24.1 Sphere 함수 \n",
    "$$\n",
    "z=f(x,y)= x^2 + y^2 \\\\\n",
    "\\Rightarrow \\begin{bmatrix}\\frac{\\partial z}{\\partial x} & \\frac{\\partial z}{\\partial y} \\end{bmatrix}=\\begin{bmatrix}2x & 2y\\end{bmatrix}\\\\\n",
    "$$\n",
    "(예시로 사용한 함수는 $x,y,z$의 3차원 함수이며, n차원으로 일반화한 `sphere 함수`는 $f(\\mathbf{x})=\\sum_{i=1}^n x_i^2$ 이다.)"
   ]
  },
  {
   "cell_type": "code",
   "execution_count": 5,
   "metadata": {},
   "outputs": [
    {
     "name": "stdout",
     "output_type": "stream",
     "text": [
      "df/dx : 2.0 , df/dy : 2.0\n"
     ]
    }
   ],
   "source": [
    "import sys\n",
    "\n",
    "sys.path.append(\"..\")\n",
    "\n",
    "import numpy as np\n",
    "from dezero import Variable\n",
    "\n",
    "\n",
    "def sphere(x, y):\n",
    "    z = x**2 + y**2\n",
    "    return z\n",
    "\n",
    "\n",
    "x = Variable(np.array(1.0))\n",
    "y = Variable(np.array(1.0))\n",
    "z = sphere(x, y)\n",
    "z.backward()\n",
    "print(f\"df/dx : {x.grad} , df/dy : {y.grad}\")"
   ]
  },
  {
   "attachments": {},
   "cell_type": "markdown",
   "metadata": {},
   "source": [
    "### 24.2 Matyas 함수 (마치시 함수) \n",
    "$$\n",
    "z = f(x,y) = 0.26(x^2+y^2)-0.48xy \\\\ \n",
    "\\Rightarrow \\begin{bmatrix}\\frac{\\partial z}{\\partial x} & \\frac{\\partial z}{\\partial y} \\end{bmatrix}=\\begin{bmatrix}0.52x-0.48y & 0.52y-0.48x \\end{bmatrix}\\\\\n",
    "$$"
   ]
  },
  {
   "cell_type": "code",
   "execution_count": 8,
   "metadata": {},
   "outputs": [
    {
     "name": "stdout",
     "output_type": "stream",
     "text": [
      "df/dx : 0.040000000000000036 , df/dy : 0.040000000000000036\n"
     ]
    }
   ],
   "source": [
    "def matyas(x, y):\n",
    "    z = 0.26 * (x**2 + y**2) - 0.48 * x * y\n",
    "    # 만약 연산자를 사용할수 없었다면 다음과 같이 복잡한 함수로 정의해야한다.\n",
    "    # z = sub(mul(0.26,add(pow(x,2),pow(y,2))),mul(0.48,mul(x,y)))\n",
    "    return z\n",
    "\n",
    "\n",
    "x = Variable(np.array(1.0))\n",
    "y = Variable(np.array(1.0))\n",
    "z = matyas(x, y)\n",
    "z.backward()\n",
    "print(f\"df/dx : {x.grad} , df/dy : {y.grad}\")"
   ]
  },
  {
   "attachments": {},
   "cell_type": "markdown",
   "metadata": {},
   "source": [
    "### 24.3 Goldstein-Price 함수 \n",
    "$$\n",
    "f(x,y) = [1+(x+y+1)^2(19-14x+3x^2-14y+6xy+3y^2)][30+(2x-3y)^2(18-32x+12x^2+48y-36xy+27y^2)]\n",
    "$$"
   ]
  },
  {
   "cell_type": "code",
   "execution_count": 16,
   "metadata": {},
   "outputs": [
    {
     "name": "stdout",
     "output_type": "stream",
     "text": [
      "df/dx : -5376.0 , df/dy : 8064.0\n"
     ]
    }
   ],
   "source": [
    "def goldstein(x, y):\n",
    "    z = (1 + (x + y + 1) ** 2 * (19 - 14 * x + 3 * x**2 - 14 * y + 6 * x * y + 3 * y**2)) * (\n",
    "        30 + (2 * x - 3 * y) ** 2 * (18 - 32 * x + 12 * x**2 + 48 * y - 36 * x * y + 27 * y**2)\n",
    "    )\n",
    "    return z\n",
    "\n",
    "\n",
    "x = Variable(np.array(1.0))\n",
    "y = Variable(np.array(1.0))\n",
    "z = goldstein(x, y)\n",
    "z.backward()\n",
    "print(f\"df/dx : {x.grad} , df/dy : {y.grad}\")"
   ]
  }
 ],
 "metadata": {
  "kernelspec": {
   "display_name": "DL-torch",
   "language": "python",
   "name": "python3"
  },
  "language_info": {
   "codemirror_mode": {
    "name": "ipython",
    "version": 3
   },
   "file_extension": ".py",
   "mimetype": "text/x-python",
   "name": "python",
   "nbconvert_exporter": "python",
   "pygments_lexer": "ipython3",
   "version": "3.8.12"
  },
  "orig_nbformat": 4,
  "vscode": {
   "interpreter": {
    "hash": "3584091cda227b8e59fda59e5fdf3aec4997f3a2464c55243d7618073e2ad776"
   }
  }
 },
 "nbformat": 4,
 "nbformat_minor": 2
}
