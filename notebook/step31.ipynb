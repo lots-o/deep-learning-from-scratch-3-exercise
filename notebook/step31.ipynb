{
 "cells": [
  {
   "attachments": {},
   "cell_type": "markdown",
   "metadata": {},
   "source": [
    "# 제3 고지 : 고차 미분 계산\n",
    "## STEP 31 : 고차 미분(이론 편)\n",
    "\n",
    "이전 단계에서는 현재 DeZero의 구현을 살펴봤다. 요점은 다음과 같다.\n",
    "\n",
    "- 계산의 '연결'은 `Function`의 `__call__()`에서 만들어진다.\n",
    "- 구체적인 순전파 / 역전파 계산은 `Function`을 상속한 클래스의 `forward()` / `backward()`에서 이뤄진다.\n",
    "\n",
    "여기서 주목해야 할 것은 **계산 그래프의 '연결'이 만들어지는 시점으로, 순전파를 계산**할때 만들어진다는 것이다. 즉,**역전파를 계산할 때는 만들어 지지 않는 다**는 것이 문제의 핵심이다.  \n",
    "\n",
    "### 31.1 역전파 계산 \n",
    "\n",
    "순전파와 마찬가지로 역전파에도 구체적인 계산 로직이 있다. 다음의 `Sin`함수를 예로 들면,  \n",
    "\n",
    "```python\n",
    "class Sin(Function):\n",
    "    def forward(self,x):\n",
    "        y= np.sin(x)\n",
    "        return y \n",
    "    \n",
    "    def backward(self,gy):\n",
    "        x = self.inputs[0].data \n",
    "        gx = gy * np.cos(x)\n",
    "        return gx \n",
    "\n",
    "def sin(x):\n",
    "    return Sin()(x)\n",
    "```\n",
    "\n",
    "`gx = gy * np.cos(x)` 와 같이 구체적인 계산이 이뤄지지만, **현재의 DeZero는 계산과 관련한 연결그래프를 만들지 않는다.**.  그 이유는 해당 계산에서 `Variable` 인스턴스가 아닌 `ndarray`  인스턴스가 사용되기 때문이다.  \n",
    "만약 역전파 계산시에도 '연결'이 만들어진다면 고차미분을 자동으로 수행할 수 있게 된다. \n",
    "\n",
    "이를 이해하기 위해 $y=\\sin(x)$ 의 미분을 구하는 계산그래프(`gx = gy * np.cos(x)`)를 살펴보면, 이와 같이 계산 그래프만 존재한다면 `gx.backward()`를 통해 2차 미분 , 나아가 고차미분을 연결하여 역전파를 진행할 수 있다.\n",
    "\n",
    "![image](../assets/%EA%B7%B8%EB%A6%BC%2031-2.png)\n",
    "\n",
    "\n",
    "### 31.2 역전파로 계산 그래프 만들기\n",
    "\n",
    "현재의 DeZero는 **`Variable` 인스턴스를 사용하여 순전파시 '연결'을 만든다.** 이 말은 **역전파시에도 `ndarray` 인스턴스가 아닌 `Variable` 인스턴스를 사용하면 '연결'이 가능**하다는 것이다.  \n",
    "이를 위해 우선 다음과 같이 **미분값(기울기)를 `Variable` 인스턴스로 유지** 해야한다.\n",
    "\n",
    "![image](../assets/%EA%B7%B8%EB%A6%BC%2031-3.png)\n",
    "\n",
    "이렇게 변경하면, 방금 살펴봤던 $y=\\sin(x)$ 의 계산 그래프는 다음과 같이 표현 할 수 있다.\n",
    "\n",
    "<p align='center'>\n",
    "    <img src='../assets/%EA%B7%B8%EB%A6%BC%2031-4.png' align='center' width='35%'>\n",
    "    <img src='../assets/%EA%B7%B8%EB%A6%BC%2031-5.png' align='center' width='32%'>\n",
    "</p>\n",
    "\n",
    "\n",
    "위의 그림은 `Sin` 클래스의 순전파, 역전파를 수행한 후의 계산 그래프이다. 중요한 것은 **역전파 시에도 계산 그래프가 만들어 진다는 것**이다.  \n",
    "(여기서 `y`는 함수가 만들어 낸 변수이므로 미분값을 유지하지 않기 때문에 `y.grad`에서 `gy` 로의 참조는 없다.)\n",
    "\n"
   ]
  }
 ],
 "metadata": {
  "kernelspec": {
   "display_name": "DL-torch",
   "language": "python",
   "name": "python3"
  },
  "language_info": {
   "codemirror_mode": {
    "name": "ipython",
    "version": 3
   },
   "file_extension": ".py",
   "mimetype": "text/x-python",
   "name": "python",
   "nbconvert_exporter": "python",
   "pygments_lexer": "ipython3",
   "version": "3.8.12 | packaged by conda-forge | (default, Oct 12 2021, 21:21:17) \n[Clang 11.1.0 ]"
  },
  "orig_nbformat": 4,
  "vscode": {
   "interpreter": {
    "hash": "3584091cda227b8e59fda59e5fdf3aec4997f3a2464c55243d7618073e2ad776"
   }
  }
 },
 "nbformat": 4,
 "nbformat_minor": 2
}
