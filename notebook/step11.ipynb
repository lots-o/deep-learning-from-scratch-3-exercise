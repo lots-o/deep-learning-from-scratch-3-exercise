{
 "cells": [
  {
   "attachments": {},
   "cell_type": "markdown",
   "metadata": {},
   "source": [
    "# 제2 고지 : 자연스러운  코드로 \n",
    "## STEP 11 : 가변길이 인수 (순전파 편)\n",
    "\n",
    "### 11.1  Function 클래스 수정\n",
    "![image.png](../assets/%EA%B7%B8%EB%A6%BC%2011-1.png)\n",
    "- 지금까지는 함수에 입출력 변수가 하나씩인 경우만 생각해왔지만, 함수에 따라 여러개의 입력/출력이 존재할 수 있다.\n",
    "- **입력은 리스트로 바꿔서 여러개의 입력**을 받을 수 있도록, **출력은 튜플로 바꿔서 여러 개의 출력**에 대응할 수 있도록 한다."
   ]
  },
  {
   "cell_type": "code",
   "execution_count": 1,
   "metadata": {},
   "outputs": [],
   "source": [
    "class Function:\n",
    "    \"\"\"\n",
    "    Function Base Class\n",
    "\n",
    "    \"\"\"\n",
    "\n",
    "    def __call__(self, inputs):\n",
    "        #####################################\n",
    "        # 여러개의 입력\n",
    "        xs = [x.data for x in inputs]\n",
    "        #####################################\n",
    "        ys = self.forward(xs)\n",
    "        \n",
    "        #####################################\n",
    "        # 여러개의 출력 및 creator 설정\n",
    "        outputs = [Variable(as_array(y)) for y in ys]\n",
    "        for output in outputs:\n",
    "            output.set_creator(self)\n",
    "        #####################################\n",
    "            \n",
    "        self.inputs = inputs\n",
    "        self.outputs = outputs\n",
    "\n",
    "        return outputs\n",
    "\n",
    "    def forward(self, xs):\n",
    "        \"\"\"\n",
    "        구체적인 함수 계산 담당\n",
    "        \"\"\"\n",
    "        raise NotImplementedError()\n",
    "\n",
    "    def backward(self, gys):\n",
    "        \"\"\"\n",
    "        역전파\n",
    "        \"\"\"\n",
    "        raise NotImplementedError()"
   ]
  },
  {
   "attachments": {},
   "cell_type": "markdown",
   "metadata": {},
   "source": [
    "### 11.2 Add 클래스 구현"
   ]
  },
  {
   "cell_type": "code",
   "execution_count": 2,
   "metadata": {},
   "outputs": [],
   "source": [
    "class Add(Function):\n",
    "    def forward(self, xs):\n",
    "        x0, x1 = xs\n",
    "        y = x0 + x1\n",
    "        return (y,)"
   ]
  },
  {
   "attachments": {},
   "cell_type": "markdown",
   "metadata": {},
   "source": [
    "### 코드"
   ]
  },
  {
   "cell_type": "code",
   "execution_count": 3,
   "metadata": {},
   "outputs": [
    {
     "name": "stdout",
     "output_type": "stream",
     "text": [
      "5\n"
     ]
    }
   ],
   "source": [
    "import numpy as np\n",
    "\n",
    "\n",
    "def as_array(x):\n",
    "\n",
    "    \"\"\"\n",
    "    0차원 ndarray / ndarray가 아닌 경우\n",
    "    \"\"\"\n",
    "    if np.isscalar(x):\n",
    "        return np.array(x)\n",
    "    return x\n",
    "\n",
    "\n",
    "class Variable:\n",
    "    def __init__(self, data: np.ndarray) -> None:\n",
    "        if data is not None:\n",
    "            if not isinstance(data, np.ndarray):\n",
    "                raise TypeError(f\"{type(data)}은(는) 지원하지 않습니다.\")\n",
    "        self.data = data\n",
    "        self.grad = None  # gradient\n",
    "        self.creator = None  # creator\n",
    "\n",
    "    def set_creator(self, func) -> None:\n",
    "        self.creator = func\n",
    "\n",
    "    def backward(self):\n",
    "        \"\"\"\n",
    "        자동 역전파 (반복)\n",
    "        \"\"\"\n",
    "        if self.grad is None:\n",
    "            self.grad = np.ones_like(self.data)\n",
    "        funcs = [self.creator]\n",
    "        while funcs:\n",
    "            f = funcs.pop()  # 1. 함수를 가져온다\n",
    "            x, y = f.input, f.output  # 2. 함수의 입력 / 출력을 가져온다\n",
    "            x.grad = f.backward(y.grad)  # 3. 역전파를 계산한다\n",
    "\n",
    "            if x.creator is not None:\n",
    "                funcs.append(x.creator)  # 하나 앞의 함수를 리스트에 추가한다.\n",
    "\n",
    "\n",
    "class Function:\n",
    "    \"\"\"\n",
    "    Function Base Class\n",
    "\n",
    "    \"\"\"\n",
    "\n",
    "    def __call__(self, inputs):\n",
    "        xs = [x.data for x in inputs]\n",
    "        ys = self.forward(xs)\n",
    "        outputs = [Variable(as_array(y)) for y in ys]\n",
    "\n",
    "        for output in outputs:\n",
    "            output.set_creator(self)\n",
    "        self.inputs = inputs\n",
    "        self.outputs = outputs\n",
    "\n",
    "        return outputs\n",
    "\n",
    "    def forward(self, xs):\n",
    "        \"\"\"\n",
    "        구체적인 함수 계산 담당\n",
    "        \"\"\"\n",
    "        raise NotImplementedError()\n",
    "\n",
    "    def backward(self, gys):\n",
    "        \"\"\"\n",
    "        역전파\n",
    "        \"\"\"\n",
    "        raise NotImplementedError()\n",
    "\n",
    "\n",
    "class Add(Function):\n",
    "    def forward(self, xs):\n",
    "        x0, x1 = xs\n",
    "        y = x0 + x1\n",
    "        return (y,)\n",
    "\n",
    "\n",
    "xs = [Variable(np.array(2)), Variable(np.array(3))]\n",
    "f = Add()\n",
    "ys = f(xs)\n",
    "y = ys[0]\n",
    "print(y.data)"
   ]
  }
 ],
 "metadata": {
  "kernelspec": {
   "display_name": "DL-torch",
   "language": "python",
   "name": "python3"
  },
  "language_info": {
   "codemirror_mode": {
    "name": "ipython",
    "version": 3
   },
   "file_extension": ".py",
   "mimetype": "text/x-python",
   "name": "python",
   "nbconvert_exporter": "python",
   "pygments_lexer": "ipython3",
   "version": "3.8.12"
  },
  "orig_nbformat": 4,
  "vscode": {
   "interpreter": {
    "hash": "3584091cda227b8e59fda59e5fdf3aec4997f3a2464c55243d7618073e2ad776"
   }
  }
 },
 "nbformat": 4,
 "nbformat_minor": 2
}
