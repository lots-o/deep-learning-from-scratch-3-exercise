{
 "cells": [
  {
   "attachments": {},
   "cell_type": "markdown",
   "metadata": {},
   "source": [
    "# 제4 고지 : 신경망 만들기 \n",
    "## STEP 44 : 매개변수를 모아두는 계층\n",
    "\n",
    "이전 단계에서 확장한 '신경망'으로 이제 DeZero를 '신경망 프레임워크'라고 말할 수 있다. 하지만 아직 '사용 편의성' 면에서는 몇가지 문제가 있다. \n",
    "특히 이번 단계에서는 **매개변수**에 대해 다루는데, 이전 단계에서는 매개변수의 기울기를 재설정하거나 갱신할때 다소 단조로운 코드를 작성했다. \n",
    "하지만 앞으로 더욱 복잡한 신경망을 다루게 된다면 매개변수를 다루는일도 그만큼 복잡해진다.  \n",
    "따라서 이번 단계에서는 **매개변수를 담는 구조**를 `Parameter` 와 `Layer` 라는 클래스로 구현한다. 이 **두 클래스를 사용하여 매개변수 관리를 자동화 하는 것이 목적**이다.\n",
    "\n",
    "### 44.1 Parameter 클래스 구현 \n",
    "```python\n",
    "class Parameter(Variable):\n",
    "    pass\n",
    "```\n",
    "`Variable` 클래스를 상속하고, 동일한 기능을 가진다.  \n",
    "즉, 아래와 같이 `Paramter` 와 `Variable` 조합으로 계산할수 있고 동일한 기능을 가지지만, 두 인스턴스를 구분할 수 있다."
   ]
  },
  {
   "cell_type": "code",
   "execution_count": 2,
   "metadata": {},
   "outputs": [
    {
     "name": "stdout",
     "output_type": "stream",
     "text": [
      "True\n",
      "False\n",
      "False\n"
     ]
    }
   ],
   "source": [
    "import sys\n",
    "sys.path.append(\"..\")\n",
    "\n",
    "import numpy as np \n",
    "from dezero import Variable,Parameter\n",
    "\n",
    "x = Variable(np.array(1.0))\n",
    "p = Parameter(np.array(2.0))\n",
    "y = x * p\n",
    "\n",
    "print(isinstance(p,Parameter))\n",
    "print(isinstance(x,Parameter))\n",
    "print(isinstance(y,Parameter))"
   ]
  },
  {
   "cell_type": "markdown",
   "metadata": {},
   "source": [
    "### 44.2 Layer 클래스 구현\n",
    "```python\n",
    "class Layer:\n",
    "    def __init__(self):\n",
    "        self._params = set()\n",
    "        \n",
    "    def __setattr__(self, name,value):\n",
    "        if isinstance(value,Parameter):\n",
    "            self._params.add(name)\n",
    "        super().__setattr__(name,value)\n",
    "\n",
    "```\n",
    "이번에 구현할 `Linear` 클래스는 `Function` 클래스와 마찬가지로, 변수를 변환하는 클래스이다. 그러나 **매개변수를 유지**한다는점이 다르다.\n",
    "\n",
    "<span style='background-color : #ffdce0'>💡<b>`Linear` 클래스를 기반 클래스로 두고 구체적인 변환은 자식 클래스에서 구현한다.</b></span>\n",
    "\n",
    "여기서 주목해야할 것은 \n",
    "\n",
    "1. `_params` 라는 인스턴스 변수에 `Layer`에 속한 매개변수를 관리한다는 것\n",
    "2. `__setattr__` 은 이름이 `name`인 인스턴스 변수 값으로 `value`를 전달하는 함수로 해당함수를 오버라이딩 하면 인스턴수 변수를 설정할때 자신만의 로직 추가 가능하다는것\n",
    "\n",
    "이다.\n",
    "\n",
    "구체적으로 살펴보면, \n",
    "- `value`가 `Parameter` 인스턴스라면 `self._params` 에 `name`을 추가한다. 그리고 인스턴스 변수 `__dict__` 에는 모든 인스턴스 변수가 딕셔너리 타입으로 저장되기 때문에  `Parameter` 변수만 꺼낼수도 있다.\n",
    "\n",
    "<span style='background-color : #ffdce0'>💡<b> `self._params`에 `value`가 아닌 `name`을 추가하는데, 매개변수를 외부파일로 저장할때, `name` 을 유지하는 쪽이 편리하기 때문이다. 이는 53단계에서 살펴본다.</b></span>"
   ]
  },
  {
   "cell_type": "code",
   "execution_count": 4,
   "metadata": {},
   "outputs": [
    {
     "name": "stdout",
     "output_type": "stream",
     "text": [
      "{'p2', 'p1', 'p3'}\n",
      "-----------------\n",
      "p2 variable(2)\n",
      "p1 variable(1)\n",
      "p3 variable(3)\n"
     ]
    }
   ],
   "source": [
    "class Layer:\n",
    "    def __init__(self):\n",
    "        self._params = set()\n",
    "        \n",
    "    def __setattr__(self, name,value):\n",
    "        if isinstance(value,Parameter):\n",
    "            self._params.add(name)\n",
    "        super().__setattr__(name,value)\n",
    "        \n",
    "layer = Layer()\n",
    "layer.p1 = Parameter(np.array(1))\n",
    "layer.p2 = Parameter(np.array(2))\n",
    "layer.p3 = Parameter(np.array(3))\n",
    "layer.p4 = \"test\" # parameter가 아닌 값\n",
    "\n",
    "print(layer._params)\n",
    "print(\"-----------------\")\n",
    "\n",
    "for name in layer._params:\n",
    "    print(name,layer.__dict__[name])"
   ]
  },
  {
   "cell_type": "markdown",
   "metadata": {},
   "source": [
    "```python\n",
    "import weakref\n",
    "class Layer:\n",
    "    def __init__(self):\n",
    "        self._params = set()\n",
    "\n",
    "    def __setattr__(self, name, value):\n",
    "        if isinstance(value, Parameter):\n",
    "            self._params.add(name)\n",
    "        super().__setattr__(name, value)\n",
    "\n",
    "    def __call__(self, *inputs):\n",
    "        outputs = self.forward(*inputs)\n",
    "        if not isinstance(outputs, tuple):\n",
    "            outputs = (outputs,)\n",
    "        self.inputs = [weakref.ref(x) for x in inputs]\n",
    "        self.outputs = [weakref.ref(y) for y in outputs]\n",
    "        return outputs if len(outputs) > 1 else outputs[0]\n",
    "\n",
    "    def forward(self, inputs):\n",
    "        raise NotImplementedError()\n",
    "\n",
    "    def params(self):\n",
    "        for name in self._params:\n",
    "            yield self.__dict__[name]\n",
    "\n",
    "    def cleargrads(self):\n",
    "        for param in self.params():\n",
    "            param.cleargrad()\n",
    "```\n",
    "\n",
    "추가적으로 4개의 메서드를 구현한다.\n",
    "\n",
    "1. `__call__()` :  입력받은 인수를 건네 `forward` 메서드를 호출하고, 출력이 `tuple` 이 아니라면 `tuple` 로 변환한다. 또한 나중을 생각하여 입력과 출력을 약한 참조로 유지한다.\n",
    "2. `forward()` : 자식 클래스에서 구현한다.\n",
    "3. `params()` : `Layer` 인스턴스에 담겨 있는 `Parameter` 인스턴스들을 꺼낸다.\n",
    "4. `cleargrads()` : `Layer` 가 가진 모든 매개변수에 대해 `cleargrad`를 호출한다."
   ]
  },
  {
   "cell_type": "markdown",
   "metadata": {},
   "source": [
    "\n",
    "### 44.3 Linear 클래스 구현 \n",
    "이어서 선형변환을 하는 `Linear` 클래스를 구현한다.(이는 함수로서의 `Linear` 클래스가 아닌 **계층으로서의 `Linear` 클래스**다)\n",
    "\n",
    "```python\n",
    "class Linear(Layer):\n",
    "    def __init__(self, out_size, nobias=False, dtype=np.float32, in_size=None):\n",
    "        super().__init__()\n",
    "        self.in_size = in_size\n",
    "        self.out_size = out_size\n",
    "        self.dtype = dtype\n",
    "\n",
    "        self.W = Parameter(None, name='W')\n",
    "        if self.in_size is not None: # in_size가 지정되어 있지 않다면 나중으로 연기\n",
    "            self._init_W()\n",
    "\n",
    "        if nobias:\n",
    "            self.b = None\n",
    "        else:\n",
    "            self.b = Parameter(np.zeros(out_size, dtype=dtype), name='b')\n",
    "\n",
    "    def _init_W(self):\n",
    "        I, O = self.in_size, self.out_size\n",
    "        W_data = np.random.randn(I, O).astype(self.dtype) * np.sqrt(1 / I) # efficient backprop. in neural networks tricks of the trade\n",
    "        self.W.data = W_data\n",
    "\n",
    "    def forward(self, x):\n",
    "        # 데이터를 흘려보내는 시점에 가중치 초기화\n",
    "        if self.W.data is None:\n",
    "            self.in_size = x.shape[1]\n",
    "            self._init_W()\n",
    "\n",
    "        y = F.linear(x, self.W, self.b)\n",
    "        return y\n",
    "```\n",
    "여기서 주목해야 할 것은 \n",
    "\n",
    "1. 가중치 $W$를 생성하는 시점을 `forward()` 메서드에서 생성하도록 시점을 늦췄다.\n",
    "2. 이로 인해 사용자가 입력 크기(`in_size`) 를 지정하지 않아도 **자동으로 결정가능**하다. \n",
    "\n",
    "### 44.4 Layer를 이용한 신경망 구현\n",
    "\n",
    "이제 `Linear` 클래스를 활용하여 신경망을 구현해보자."
   ]
  },
  {
   "cell_type": "code",
   "execution_count": 1,
   "metadata": {},
   "outputs": [
    {
     "name": "stdout",
     "output_type": "stream",
     "text": [
      "variable(0.8165178492839196)\n",
      "variable(0.24990280802148895)\n",
      "variable(0.24609876581126017)\n",
      "variable(0.2372159081431807)\n",
      "variable(0.20793216413350174)\n",
      "variable(0.12311905720649353)\n",
      "variable(0.07888166506355146)\n",
      "variable(0.07655073683421637)\n",
      "variable(0.07637803086238222)\n",
      "variable(0.07618764131185564)\n"
     ]
    },
    {
     "data": {
      "image/png": "[encoded data removed]",
      "text/plain": [
       "<Figure size 576x432 with 1 Axes>"
      ]
     },
     "metadata": {
      "needs_background": "light"
     },
     "output_type": "display_data"
    }
   ],
   "source": [
    "import sys\n",
    "sys.path.append(\"..\")\n",
    "\n",
    "import numpy as np \n",
    "from dezero import Variable\n",
    "import dezero.functions as F \n",
    "import dezero.layers as L \n",
    "\n",
    "# 토이 데이터셋\n",
    "np.random.seed(0)\n",
    "x = np.random.rand(100,1)\n",
    "y = np.sin(2 *np.pi *x) + np.random.rand(100,1) #  데이터 생성에 sin 함수 이용\n",
    "\n",
    "\n",
    "##########################\n",
    "l1 = L.Linear(10) #  출력 크기 지정\n",
    "l2 = L.Linear(1)\n",
    "##########################\n",
    "\n",
    "# 2. 신경망 추론\n",
    "def predict(x):\n",
    "    y= l1(x)\n",
    "    y = F.sigmoid(y)\n",
    "    y = l2(y)\n",
    "    return y \n",
    "\n",
    "# 3. 신경망 학습\n",
    "lr = 0.2\n",
    "iters = 10000 \n",
    "for i in range(iters):\n",
    "    y_pred = predict(x)\n",
    "    loss = F.mean_squared_error(y,y_pred)\n",
    "    \n",
    "    ##########################\n",
    "    l1.cleargrads()\n",
    "    l2.cleargrads()\n",
    "    ##########################\n",
    "    loss.backward()\n",
    "\n",
    "    ##########################\n",
    "    for l in [l1,l2]:\n",
    "        for p in l.params():\n",
    "            p.data -= lr*p.grad.data \n",
    "            \n",
    "    ##########################    \n",
    "    if i % 1000 == 0:\n",
    "        print(loss)\n",
    "        \n",
    "    \n",
    "# 그래프로 시각화\n",
    "import matplotlib.pyplot as plt\n",
    "x_test = np.linspace(0, 1, 100).reshape(100,1)\n",
    "y_pred = predict(x_test)\n",
    "\n",
    "plt.figure(figsize=(8, 6))\n",
    "plt.scatter(x, y, label='Origin', s=10)\n",
    "plt.plot(x_test, y_pred.data, label='Prediction', color='red', linewidth=2)\n",
    "plt.xlabel('X')\n",
    "plt.ylabel('Y')\n",
    "plt.legend()\n",
    "plt.grid(True)\n",
    "plt.show()"
   ]
  }
 ],
 "metadata": {
  "kernelspec": {
   "display_name": "DL-torch",
   "language": "python",
   "name": "python3"
  },
  "language_info": {
   "codemirror_mode": {
    "name": "ipython",
    "version": 3
   },
   "file_extension": ".py",
   "mimetype": "text/x-python",
   "name": "python",
   "nbconvert_exporter": "python",
   "pygments_lexer": "ipython3",
   "version": "3.8.12"
  },
  "orig_nbformat": 4,
  "vscode": {
   "interpreter": {
    "hash": "3584091cda227b8e59fda59e5fdf3aec4997f3a2464c55243d7618073e2ad776"
   }
  }
 },
 "nbformat": 4,
 "nbformat_minor": 2
}
