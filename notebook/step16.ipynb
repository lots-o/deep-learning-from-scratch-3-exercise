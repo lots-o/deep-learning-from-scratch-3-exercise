{
 "cells": [
  {
   "attachments": {},
   "cell_type": "markdown",
   "metadata": {},
   "source": [
    "# 제2 고지 : 자연스러운  코드로 \n",
    "## STEP 16 : 복잡한 계산 그래프(구현 편)\n",
    "\n",
    "15단계에서 설명한 이론을 바탕으로 코드를 구현한다. \n",
    "\n",
    "![image](../assets/%EA%B7%B8%EB%A6%BC%2016-1.png)\n",
    "\n",
    "### 16.1 세대 추가\n",
    "먼저 **순전파**시 `세대` 를 추가하는 방법부터 살펴본다. 이를 위해, `Variable` 과 `Function`에 `generation` 을 추가하는 밥법을 순차적으로 살펴본다.\n",
    "\n",
    "1. `Variable` 클래스 \n",
    "\n",
    "![image](../assets/%EA%B7%B8%EB%A6%BC%2016-1.png)\n",
    "\n",
    "- `Variable` 클래스는 `generation` 을 **0으로 초기화**한다.\n",
    "- `set_creator()` 메서드가 호출될때, **부모 함수의 세대보다 1만큼 큰 값**을 설정한다.\n",
    "\n",
    "\n",
    "\n",
    "\n",
    "2. `Function` 클래스\n",
    "\n",
    "![image](../assets/%EA%B7%B8%EB%A6%BC%2016-2.png)\n",
    "- `Function` 클래스의 `generation`은 **입력변수와 같은 값으로 설정**한다.\n",
    "- 만약 **입력변수가 둘 이상**이라면 **가장 큰** `generation`의 수를 선택한다. "
   ]
  },
  {
   "cell_type": "code",
   "execution_count": 6,
   "metadata": {},
   "outputs": [],
   "source": [
    "import numpy as np\n",
    "class Variable:\n",
    "    def __init__(self, data: np.ndarray) -> None:\n",
    "        if data is not None:\n",
    "            if not isinstance(data, np.ndarray):\n",
    "                raise TypeError(f\"{type(data)}은(는) 지원하지 않습니다.\")\n",
    "        self.data = data\n",
    "        self.grad = None  # gradient\n",
    "        self.creator = None  # creator\n",
    "        ##########################\n",
    "        self.generation = 0 # 세대수를 기록하는 변수 \n",
    "        ##########################\n",
    "\n",
    "    def set_creator(self, func) -> None:\n",
    "        self.creator = func\n",
    "        ##########################\n",
    "        self.generation = func.generation+1 # 세대를 기록한다 ( 부모세대 + 1)\n",
    "        ########################## \n",
    "\n",
    "    def backward(self):\n",
    "        \"\"\"\n",
    "        자동 역전파 (반복)\n",
    "        \"\"\"\n",
    "        if self.grad is None:\n",
    "            self.grad = np.ones_like(self.data)\n",
    "        funcs = [self.creator]\n",
    "        while funcs:\n",
    "            f = funcs.pop()  \n",
    "            gys = [output.grad for output in f.outputs] # 1. 순전파의 결과가 **여러개의 출력인 경우**를 처리 \n",
    "            gxs = f.backward(*gys) # 2. 역전파 기준 **여러 개의 입력(=순전파의 여러 개 출력)** 을 처리.\n",
    "            if not isinstance(gxs,tuple): # 3. 역전파 **결과값이 하나인 경우(=역전파의 출력이 1개인 경우)** 튜플로 변환.\n",
    "                gxs = (gxs,)\n",
    "            for x,gx in zip(f.inputs,gxs): # 4. **역전파 결과가 여러개의 출력인 경우** 각각 대응\n",
    "                #  첫 grad를 설정시에는 `그대로` 출력하고, \n",
    "                if x.grad is None : \n",
    "                    x.grad = gx \n",
    "                # 다음 미분은 기존 미분 값에 `더해준다.`\n",
    "                else :\n",
    "                    ## NOTE :  in-place 연산 (x.grad+=gx) 을 하지 않는 이유는 **메모리 참조**로 원하지 않는 값 변동이 일어 날 수 있다.\n",
    "                    x.grad = x.grad + gx \n",
    "                \n",
    "                if x.creator is not None:\n",
    "                    funcs.append(x.creator)  # 하나 앞의 함수를 리스트에 추가한다\n",
    "\n",
    "def as_array(x):\n",
    "\n",
    "    \"\"\"\n",
    "    0차원 ndarray / ndarray가 아닌 경우\n",
    "    \"\"\"\n",
    "    if np.isscalar(x):\n",
    "        return np.array(x)\n",
    "    return x\n",
    "\n",
    "\n",
    "class Function:\n",
    "    \"\"\"\n",
    "    Function Base Class\n",
    "\n",
    "    \"\"\"\n",
    "\n",
    "    def __call__(self, *inputs):  #  1. * 를  활용하여 임의 개수의 인수\n",
    "        xs = [x.data for x in inputs]\n",
    "        ys = self.forward(*xs) # 1. 리스트 언팩\n",
    "        if not isinstance(ys,tuple): # 2. 튜플이 아닌 경우 추가 지원 \n",
    "            ys = (ys,)\n",
    "        outputs = [Variable(as_array(y)) for y in ys]\n",
    "        \n",
    "        ####################################\n",
    "        self.generation = max([x.generation for x in inputs]) # Function의 generation 설정\n",
    "        ####################################\n",
    "\n",
    "        for output in outputs:\n",
    "            output.set_creator(self)\n",
    "        self.inputs = inputs\n",
    "        self.outputs = outputs\n",
    "\n",
    "        # 2. 리스트의 원소가  하나라면  첫번째 원소를 반환\n",
    "        return outputs if len(outputs) > 1 else outputs[0]\n",
    "\n",
    "    def forward(self, xs):\n",
    "        \"\"\"\n",
    "        구체적인 함수 계산 담당\n",
    "        \"\"\"\n",
    "        raise NotImplementedError()\n",
    "\n",
    "    def backward(self, gys):\n",
    "        \"\"\"\n",
    "        역전파\n",
    "        \"\"\"\n",
    "        raise NotImplementedError()\n",
    "\n",
    "class Add(Function):\n",
    "    def forward(self, x0,x1):\n",
    "        y = x0 + x1\n",
    "        return y\n",
    "    def backward(self, gy):\n",
    "        # 역전파시 , 입력이 1개 , 출력이 2개 \n",
    "        return gy,gy \n",
    "    \n",
    "def add(x0,x1):\n",
    "    return Add()(x0,x1)\n",
    "\n",
    "class Square(Function):\n",
    "    def forward(self, x):\n",
    "        y= x**2 \n",
    "        return y \n",
    "    def backward(self, gy):\n",
    "        x = self.inputs[0].data  #  수정 전 : x= self.input.data\n",
    "        gx = 2 * x * gy \n",
    "        return gx \n",
    "    \n",
    "def square(x):\n",
    "    return Square()(x)\n"
   ]
  },
  {
   "attachments": {},
   "cell_type": "markdown",
   "metadata": {},
   "source": [
    "### 16.2 세대 순으로 꺼내기\n",
    "\n",
    "<p align='center'>\n",
    "    <img src='../assets/%EA%B7%B8%EB%A6%BC%2016-3.png' align='center' width='50%'>\n",
    "    <figcaption align='center'>세대 개념이 반영된 계산 그래프</figcaption>\n",
    "</p>\n",
    "\n",
    "위의 그림을 보면, 함수 A,B,C,D의 세대는 차례로 0,1,1,2 인 것을 확인 할 수 있다. 만약 역전파를 진행한다면, **A보다 B,C의 세대가 먼저 꺼내진다.(B,C의 세대가 더 우선되므로)**\n",
    "\n",
    "이 개념을 바탕으로 간단한 예제를 살펴보자. \n",
    "1. 더미함수를 이용하여 각 함수의 세대를 설정한다. \n",
    "2. 세대 순 오름차순 정렬을 이용해서 가장 큰 세대의 함수를 꺼낸다."
   ]
  },
  {
   "cell_type": "code",
   "execution_count": 7,
   "metadata": {},
   "outputs": [
    {
     "data": {
      "text/plain": [
       "[2, 0, 1, 4, 2]"
      ]
     },
     "execution_count": 7,
     "metadata": {},
     "output_type": "execute_result"
    }
   ],
   "source": [
    "# 1. 더미 함수를 이용하여 세대를 설정한다.\n",
    "generations = [2,0,1,4,2]\n",
    "funcs = [] \n",
    "\n",
    "for g in generations:\n",
    "    f= Function()\n",
    "    f.generation = g \n",
    "    funcs.append(f)\n",
    "[f.generation for f in funcs]"
   ]
  },
  {
   "cell_type": "code",
   "execution_count": 8,
   "metadata": {},
   "outputs": [
    {
     "name": "stdout",
     "output_type": "stream",
     "text": [
      "오름 차순 정렬된 세대 : [0, 1, 2, 2, 4]\n",
      "가장 큰 세대 : 4\n"
     ]
    }
   ],
   "source": [
    "# 2. 세대 순 정렬을 이용해서 가장 큰 세대의 함수를 꺼낸다. \n",
    "funcs.sort(key=lambda x : x.generation) # 오름차순 정렬\n",
    "print(f\"오름 차순 정렬된 세대 : {[f.generation for f in funcs]}\")\n",
    "f = funcs.pop() \n",
    "print(f\"가장 큰 세대 : {f.generation}\")"
   ]
  },
  {
   "attachments": {},
   "cell_type": "markdown",
   "metadata": {},
   "source": [
    "### 16.3 Variable 클래스의 backward\n",
    "\n",
    "가장 큰 변화는 새로 추가된 `add_func()` 함수이다. 지금까지 DeZero함수를 리스트에 추가할 때 `func.append(f)`를 호출했는데, `add_func()` 을 호출하도록 변경했다.  \n",
    "이는 **DeZero 함수  리스트를 세대순으로 정렬가능**하게 하며, 그 결과 `func.pop()`시 **세대가 가장 큰 함수를 꺼내게 된다.**\n",
    "\n",
    "참고로, 해당 함수를 구현시 **nested function(중첩 함수)** 로 구현했는데, 이는 다음 두 조건을 만족할 시 적합하다.\n",
    "\n",
    "1. 감싸는 메서드(`backward()`) 안에서만 이용한다.\n",
    "2. 감싸는 메서드(`backward()`) 에 정의된 변수 (`funcs`과 `seen_set`) 를 사용해야 한다. "
   ]
  },
  {
   "cell_type": "code",
   "execution_count": 9,
   "metadata": {},
   "outputs": [],
   "source": [
    "class Variable:\n",
    "    def __init__(self, data: np.ndarray) -> None:\n",
    "        if data is not None:\n",
    "            if not isinstance(data, np.ndarray):\n",
    "                raise TypeError(f\"{type(data)}은(는) 지원하지 않습니다.\")\n",
    "        self.data = data\n",
    "        self.grad = None  # gradient\n",
    "        self.creator = None  # creator\n",
    "        ##########################\n",
    "        self.generation = 0 # 세대수를 기록하는 변수 \n",
    "        ##########################\n",
    "\n",
    "    def set_creator(self, func) -> None:\n",
    "        self.creator = func\n",
    "        ##########################\n",
    "        self.generation = func.generation+1 # 세대를 기록한다 ( 부모세대 + 1)\n",
    "        ########################## \n",
    "\n",
    "    def backward(self):\n",
    "        \"\"\"\n",
    "        자동 역전파 (반복)\n",
    "        \"\"\"\n",
    "        if self.grad is None:\n",
    "            self.grad = np.ones_like(self.data)\n",
    "        \n",
    "        #########################################\n",
    "        funcs = [] \n",
    "        seen_set=set() # 함수의 중복 추가를 막기위해 set 으로 정의\n",
    "\n",
    "        \n",
    "        def add_func(f):\n",
    "            if f not in seen_set:\n",
    "                funcs.append(f)\n",
    "                seen_set.add(f)\n",
    "                funcs.sort(key=lambda x : x.generation)\n",
    "                \n",
    "        add_func(self.creator)\n",
    "        \n",
    "        #########################################\n",
    "        \n",
    "        while funcs:\n",
    "            f = funcs.pop()  \n",
    "            gys = [output.grad for output in f.outputs] # 1. 순전파의 결과가 **여러개의 출력인 경우**를 처리 \n",
    "            gxs = f.backward(*gys) # 2. 역전파 기준 **여러 개의 입력(=순전파의 여러 개 출력)** 을 처리.\n",
    "            if not isinstance(gxs,tuple): # 3. 역전파 **결과값이 하나인 경우(=역전파의 출력이 1개인 경우)** 튜플로 변환.\n",
    "                gxs = (gxs,)\n",
    "            for x,gx in zip(f.inputs,gxs): # 4. **역전파 결과가 여러개의 출력인 경우** 각각 대응\n",
    "                #  첫 grad를 설정시에는 `그대로` 출력하고, \n",
    "                if x.grad is None : \n",
    "                    x.grad = gx \n",
    "                # 다음 미분은 기존 미분 값에 `더해준다.`\n",
    "                else :\n",
    "                    ## NOTE :  in-place 연산 (x.grad+=gx) 을 하지 않는 이유는 **메모리 참조**로 원하지 않는 값 변동이 일어 날 수 있다.\n",
    "                    x.grad = x.grad + gx \n",
    "                \n",
    "                if x.creator is not None:\n",
    "                    #####################################################\n",
    "                    # 수정 전 : funcs.append(x.creator)  # 하나 앞의 함수를 리스트에 추가한다\n",
    "                    add_func(x.creator)\n",
    "                    #####################################################"
   ]
  },
  {
   "attachments": {},
   "cell_type": "markdown",
   "metadata": {},
   "source": [
    "### 16.4 동작 확인\n",
    "\n",
    "![image](../assets/%EA%B7%B8%EB%A6%BC%2016-4.png)\n",
    "\n",
    "이제 세대가 큰 함수부터 꺼낼 수 있게 되었으므로, 위의 계산그래프($f(x) = y = (x^2)^2 + (x^2)^2 $)의 동작을 확인해보자. \n",
    "\n",
    "\\begin{aligned}\n",
    "&\\Rightarrow f(2) = 16 + 16=32 \\\\ \n",
    "&\\Rightarrow \\frac{dy}{dx}  = 4x^3+4x^3 = 8x^3, f'(2)=64\n",
    "\\end{aligned}\n",
    "$$"
   ]
  },
  {
   "cell_type": "code",
   "execution_count": 10,
   "metadata": {},
   "outputs": [
    {
     "name": "stdout",
     "output_type": "stream",
     "text": [
      "32.0\n",
      "64.0\n"
     ]
    }
   ],
   "source": [
    "x = Variable(np.array(2.0))\n",
    "a = square(x)\n",
    "y= add(square(a),square(a))\n",
    "y.backward()\n",
    "\n",
    "print(y.data)\n",
    "print(x.grad)"
   ]
  },
  {
   "attachments": {},
   "cell_type": "markdown",
   "metadata": {},
   "source": [
    "이번 개선을 통해 더 복잡한 계산 그래프도 다룰 수 있게 되었으며, 다음과 같이 복잡한 **연결** 도 제대로 미분할 수 있다.\n",
    "\n",
    "<img src='../assets/%EA%B7%B8%EB%A6%BC%2016-5.png' align='center' width='50%' height='50%'>"
   ]
  }
 ],
 "metadata": {
  "kernelspec": {
   "display_name": "DL-torch",
   "language": "python",
   "name": "python3"
  },
  "language_info": {
   "codemirror_mode": {
    "name": "ipython",
    "version": 3
   },
   "file_extension": ".py",
   "mimetype": "text/x-python",
   "name": "python",
   "nbconvert_exporter": "python",
   "pygments_lexer": "ipython3",
   "version": "3.8.12"
  },
  "orig_nbformat": 4,
  "vscode": {
   "interpreter": {
    "hash": "3584091cda227b8e59fda59e5fdf3aec4997f3a2464c55243d7618073e2ad776"
   }
  }
 },
 "nbformat": 4,
 "nbformat_minor": 2
}
