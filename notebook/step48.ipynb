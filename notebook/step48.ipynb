{
 "cells": [
  {
   "attachments": {},
   "cell_type": "markdown",
   "metadata": {},
   "source": [
    "# 제4 고지 : 신경망 만들기 \n",
    "## STEP 48 : 다중 클래스 분류\n",
    "\n",
    "이번 단계에서는 spiral dataset 을 활용해 `multi-class classification` 를 실제로 해본다.\n",
    "\n",
    "\n",
    "### 48.1 스파이럴 데이터셋\n",
    "\n",
    "`dezero/datasets.py` 에 정의된 `get_spiral()` 을 이용해 실습할 데이터셋을 불러온다. 해당 데이터셋은 3개의 클래스 분류이며 300개의 2차원 데이터를 입력으로 한다.\n",
    "```python\n",
    "import dezero\n",
    "\n",
    "x,t = dezero.datasets.get_spiral(train=True)\n",
    "print(x.shape)\n",
    "print(t.shape)\n",
    "\n",
    "print(x[10],t[10])\n",
    "print(x[110],t[110])\n",
    "```\n",
    "\n",
    "<p align='center'>\n",
    "    <img src='../assets/그림 48-1.png' align='center' width='50%'>\n",
    "</p>\n",
    "\n"
   ]
  },
  {
   "cell_type": "code",
   "execution_count": 1,
   "metadata": {},
   "outputs": [
    {
     "name": "stdout",
     "output_type": "stream",
     "text": [
      "(300, 2)\n",
      "(300,)\n",
      "[-0.12995958 -0.00324155] 1\n",
      "[ 0.3282343  -0.54941994] 0\n"
     ]
    }
   ],
   "source": [
    "import sys\n",
    "sys.path.append(\"..\")\n",
    "\n",
    "import dezero\n",
    "\n",
    "x,t = dezero.datasets.get_spiral(train=True)\n",
    "print(x.shape)\n",
    "print(t.shape)\n",
    "\n",
    "print(x[10],t[10])\n",
    "print(x[110],t[110])"
   ]
  },
  {
   "cell_type": "markdown",
   "metadata": {},
   "source": [
    "### 48.2 학습 코드\n",
    "\n",
    "이제 실제로 학습을 진행해보고, 결과 값이 `decision boundary` 를 잘 형성하는지 확인해본다."
   ]
  },
  {
   "cell_type": "code",
   "execution_count": 4,
   "metadata": {},
   "outputs": [
    {
     "name": "stdout",
     "output_type": "stream",
     "text": [
      "epoch 1, loss 1.13\n",
      "epoch 21, loss 0.73\n",
      "epoch 41, loss 0.71\n",
      "epoch 61, loss 0.64\n",
      "epoch 81, loss 0.52\n",
      "epoch 101, loss 0.42\n",
      "epoch 121, loss 0.36\n",
      "epoch 141, loss 0.27\n",
      "epoch 161, loss 0.23\n",
      "epoch 181, loss 0.20\n",
      "epoch 201, loss 0.17\n",
      "epoch 221, loss 0.16\n",
      "epoch 241, loss 0.15\n",
      "epoch 261, loss 0.15\n",
      "epoch 281, loss 0.13\n"
     ]
    },
    {
     "data": {
      "image/png": "[encoded data removed]",
      "text/plain": [
       "<Figure size 432x288 with 1 Axes>"
      ]
     },
     "metadata": {
      "needs_background": "light"
     },
     "output_type": "display_data"
    }
   ],
   "source": [
    "import os, sys\n",
    "sys.path.append(\"..\")\n",
    "\n",
    "import math\n",
    "import numpy as np\n",
    "import matplotlib.pyplot as plt\n",
    "import dezero\n",
    "from dezero import optimizers\n",
    "import dezero.functions as F\n",
    "from dezero.models import MLP\n",
    "\n",
    "\n",
    "log_interval = 20 # 20 epoch 마다 logging\n",
    "\n",
    "# 1. 하이퍼 파라미터 설정\n",
    "max_epoch = 300\n",
    "batch_size = 30\n",
    "hidden_size = 10\n",
    "lr = 1.0\n",
    "\n",
    "\n",
    "# 2. 데이터 읽기 / 모델, 옵티마이저 생성\n",
    "x, t = dezero.datasets.get_spiral(train=True)\n",
    "model = MLP((hidden_size, 3))\n",
    "optimizer = optimizers.SGD(lr).setup(model)\n",
    "\n",
    "data_size = len(x)\n",
    "max_iter = math.ceil(data_size / batch_size)\n",
    "\n",
    "for epoch in range(max_epoch):\n",
    "    # 3. 데이터셋 셔플\n",
    "    index = np.random.permutation(data_size)\n",
    "    sum_loss = 0\n",
    "\n",
    "    for i in range(max_iter):\n",
    "        # 4. 미니 배치 생성\n",
    "        batch_index = index[i * batch_size:(i + 1) * batch_size]\n",
    "        batch_x = x[batch_index]\n",
    "        batch_t = t[batch_index]\n",
    "\n",
    "        # 5. 기울기 산출 / 매개변수 갱신\n",
    "        y = model(batch_x)\n",
    "        loss = F.softmax_cross_entropy(y, batch_t)\n",
    "        model.cleargrads()\n",
    "        loss.backward()\n",
    "        optimizer.update()\n",
    "\n",
    "        sum_loss += float(loss.data) * len(batch_t)\n",
    "\n",
    "    # 6. 에폭마다 학습 경과 출력\n",
    "    avg_loss = sum_loss / data_size\n",
    "    if epoch % log_interval == 0:\n",
    "        print('epoch %d, loss %.2f' % (epoch + 1, avg_loss))\n",
    "\n",
    "# Plot boundary area the model predict\n",
    "h = 0.001\n",
    "x_min, x_max = x[:, 0].min() - .1, x[:, 0].max() + .1\n",
    "y_min, y_max = x[:, 1].min() - .1, x[:, 1].max() + .1\n",
    "xx, yy = np.meshgrid(np.arange(x_min, x_max, h), np.arange(y_min, y_max, h))\n",
    "X = np.c_[xx.ravel(), yy.ravel()]\n",
    "\n",
    "with dezero.no_grad():\n",
    "    score = model(X)\n",
    "predict_cls = np.argmax(score.data, axis=1)\n",
    "Z = predict_cls.reshape(xx.shape)\n",
    "plt.contourf(xx, yy, Z)\n",
    "\n",
    "# Plot data points of the dataset\n",
    "N, CLS_NUM = 100, 3\n",
    "markers = ['o', 'x', '^']\n",
    "colors = ['orange', 'blue', 'green']\n",
    "for i in range(len(x)):\n",
    "    c = t[i]\n",
    "    plt.scatter(x[i][0], x[i][1], s=40,  marker=markers[c], c=colors[c])\n",
    "plt.show()"
   ]
  }
 ],
 "metadata": {
  "kernelspec": {
   "display_name": "DL-torch",
   "language": "python",
   "name": "python3"
  },
  "language_info": {
   "codemirror_mode": {
    "name": "ipython",
    "version": 3
   },
   "file_extension": ".py",
   "mimetype": "text/x-python",
   "name": "python",
   "nbconvert_exporter": "python",
   "pygments_lexer": "ipython3",
   "version": "3.8.12"
  },
  "orig_nbformat": 4,
  "vscode": {
   "interpreter": {
    "hash": "3584091cda227b8e59fda59e5fdf3aec4997f3a2464c55243d7618073e2ad776"
   }
  }
 },
 "nbformat": 4,
 "nbformat_minor": 2
}
