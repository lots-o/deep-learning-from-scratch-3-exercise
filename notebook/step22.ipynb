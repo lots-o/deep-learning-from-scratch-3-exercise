{
 "cells": [
  {
   "attachments": {},
   "cell_type": "markdown",
   "metadata": {},
   "source": [
    "# 제2 고지 : 자연스러운  코드로 \n",
    "## STEP 22 : 연산자 오버로드(3)\n",
    "\n",
    "![image](../assets/%ED%91%9C%2022-1.png)\n",
    "\n",
    "이전 단계에서는 `*`,`+` 연산자를 지원하도록 확장했는데, 이외에도 많은 연산자가 존재한다. 따라서 위의 표와 같이 추가 연산자들을 구현한다.  \n",
    "(물론, 위의 표 이외에도 `a//b`, `a%b` ,`a+=1`,`a-=2` 와 같은 연산자들도 있지만, 현재는 자주 사용하자는 연산자만 구현한다)\n",
    "\n",
    "1. 음수 (부호변환)\n",
    "2. 뺄셈\n",
    "3. 나눗셈\n",
    "4. 거듭제곱\n",
    "\n",
    "### 22.1 음수 (부호변환)\n",
    "\n",
    "음수의 미분은 $y=-x$ 일때 $\\frac{\\partial y}{\\partial x }=-1$ 이다. 따라서 역전파는 출력에서 전해지는 미분에 $-1$ 을 곱하여 하류로 보내주면 된다.\n"
   ]
  },
  {
   "cell_type": "code",
   "execution_count": 7,
   "metadata": {},
   "outputs": [],
   "source": [
    "import weakref\n",
    "import numpy as np \n",
    "\n",
    "def as_variable(obj):\n",
    "    if isinstance(obj,Variable):\n",
    "        return obj \n",
    "    return Variable(obj)\n",
    "\n",
    "\n",
    "class Variable:\n",
    "    __array_priority__ = 200 \n",
    "    def __init__(self, data, name=None):\n",
    "        if data is not None:\n",
    "            if not isinstance(data, np.ndarray):\n",
    "                raise TypeError(\"{} is not supported\".format(type(data)))\n",
    "\n",
    "        self.data = data\n",
    "        self.name = name  # 변수 구분을 위한 `이름` 설정\n",
    "        self.grad = None\n",
    "        self.creator = None\n",
    "        self.generation = 0\n",
    "\n",
    "    @property\n",
    "    def ndim(self):\n",
    "        return self.data.ndim\n",
    "\n",
    "    @property\n",
    "    def shape(self):\n",
    "        return self.data.shape\n",
    "\n",
    "    @property\n",
    "    def size(self):\n",
    "        return self.data.size\n",
    "\n",
    "    @property\n",
    "    def dtype(self):\n",
    "        return self.data.dtype\n",
    "\n",
    "    def __len__(self):\n",
    "        return len(self.data)\n",
    "\n",
    "    def __repr__(self):\n",
    "        if self.data is None:\n",
    "            return \"variable(None)\"\n",
    "        p = str(self.data).replace(\"\\n\", \"\\n\" + \" \" * 9)\n",
    "        return \"variable(\" + p + \")\"\n",
    "\n",
    "    def set_creator(self, func):\n",
    "        self.creator = func\n",
    "        self.generation = func.generation + 1\n",
    "\n",
    "    def cleargrad(self):\n",
    "        self.grad = None\n",
    "\n",
    "    def backward(self, retain_grad=False):  # `retain_grad` 추가\n",
    "        if self.grad is None:\n",
    "            self.grad = np.ones_like(self.data)\n",
    "\n",
    "        funcs = []\n",
    "        seen_set = set()\n",
    "\n",
    "        def add_func(f):\n",
    "            if f not in seen_set:\n",
    "                funcs.append(f)\n",
    "                seen_set.add(f)\n",
    "                funcs.sort(key=lambda x: x.generation)\n",
    "\n",
    "        add_func(self.creator)\n",
    "\n",
    "        while funcs:\n",
    "            f = funcs.pop()\n",
    "            gys = [output().grad for output in f.outputs]  # output is weakref\n",
    "            gxs = f.backward(*gys)\n",
    "            if not isinstance(gxs, tuple):\n",
    "                gxs = (gxs,)\n",
    "\n",
    "            for x, gx in zip(f.inputs, gxs):\n",
    "                if x.grad is None:\n",
    "                    x.grad = gx\n",
    "                else:\n",
    "                    x.grad = x.grad + gx\n",
    "\n",
    "                if x.creator is not None:\n",
    "                    add_func(x.creator)\n",
    "\n",
    "            if not retain_grad:\n",
    "                for y in f.outputs:\n",
    "                    y().grad = None  # y is weakref이기 때문에 y()로 호출\n",
    "\n",
    "    def __mul__(self, other):\n",
    "        return mul(self, other)\n",
    "\n",
    "    def __rmul__(self, other):\n",
    "        return mul(self, other)\n",
    "\n",
    "    def __add__(self, other):\n",
    "        return add(self, other)\n",
    "\n",
    "    def __radd__(self, other):\n",
    "        return add(self, other)\n",
    "\n",
    "\n",
    "def as_array(x):\n",
    "    if np.isscalar(x):\n",
    "        return np.array(x)\n",
    "    return x\n",
    "\n",
    "class Function:\n",
    "    def __call__(self, *inputs):\n",
    "        ################################\n",
    "        inputs = [as_variable(x) for x in inputs]\n",
    "        ################################\n",
    "        xs = [x.data for x in inputs]\n",
    "        ys = self.forward(*xs)\n",
    "        if not isinstance(ys, tuple):\n",
    "            ys = (ys,)\n",
    "        outputs = [Variable(as_array(y)) for y in ys]\n",
    "\n",
    "        self.generation = max([x.generation for x in inputs])\n",
    "        for output in outputs:\n",
    "            output.set_creator(self)\n",
    "        self.inputs = inputs\n",
    "        self.outputs = [weakref.ref(output) for output in outputs]\n",
    "        return outputs if len(outputs) > 1 else outputs[0]\n",
    "\n",
    "    def forward(self, xs):\n",
    "        raise NotImplementedError()\n",
    "\n",
    "    def backward(self, gys):\n",
    "        raise NotImplementedError()\n",
    "\n",
    "class Add(Function):\n",
    "    def forward(self, x0,x1):\n",
    "        y = x0 + x1\n",
    "        return y\n",
    "    def backward(self, gy):\n",
    "        # 역전파시 , 입력이 1개 , 출력이 2개 \n",
    "        return gy,gy \n",
    "    \n",
    "def add(x0,x1):\n",
    "    x1 = as_array(x1)\n",
    "    return Add()(x0,x1)\n",
    "\n",
    "\n",
    "\n",
    "class Mul(Function):\n",
    "    def forward(self, x0, x1):\n",
    "        y = x0 * x1\n",
    "        return y\n",
    "\n",
    "    def backward(self, gy):\n",
    "        x0, x1 = self.inputs[0].data, self.inputs[1].data\n",
    "        return gy * x1, gy * x0\n",
    "    \n",
    "def mul(x0,x1):\n",
    "    x1= as_array(x1)\n",
    "    return Mul()(x0,x1)"
   ]
  },
  {
   "cell_type": "code",
   "execution_count": 8,
   "metadata": {},
   "outputs": [],
   "source": [
    "class Neg(Function):\n",
    "    def forward(self,x):\n",
    "        return -x \n",
    "    def backward(self, gy):\n",
    "        return -gy \n",
    "    \n",
    "def neg(x):\n",
    "    return Neg()(x)\n",
    "\n",
    "Variable.__neg__=neg"
   ]
  },
  {
   "cell_type": "code",
   "execution_count": 9,
   "metadata": {},
   "outputs": [
    {
     "name": "stdout",
     "output_type": "stream",
     "text": [
      "variable(-2.0)\n"
     ]
    }
   ],
   "source": [
    "x = Variable(np.array(2.0))\n",
    "y = -x \n",
    "print(y)"
   ]
  },
  {
   "attachments": {},
   "cell_type": "markdown",
   "metadata": {},
   "source": [
    "### 22.2 뺄셈\n",
    "\n",
    "뺄셈의 미분은 $y=x_0-x_1$일 때 $\\begin{bmatrix} \\frac{\\partial y}{\\partial x_0} & \\frac{\\partial y}{\\partial x_1} \\end{bmatrix} =  \\begin{bmatrix} 1 & -1 \\end{bmatrix}$ 이다.  \n",
    "따라서 역전파는 출력에서 전해지는 미분값에 $1$을 곱한값이 $x_0$의 미분결과가 되고, $-1$을 곱한 값이 $x_1$ 의 미분결과가 된다.  \n"
   ]
  },
  {
   "cell_type": "code",
   "execution_count": 10,
   "metadata": {},
   "outputs": [],
   "source": [
    "class Sub(Function):\n",
    "    def forward(self,x0,x1):\n",
    "        y = x0-x1 \n",
    "        return y \n",
    "    \n",
    "    def backward(self, gy):\n",
    "        return gy,-gy \n",
    "    \n",
    "def sub(x0,x1):\n",
    "    x1 = as_array(x1)\n",
    "    return Sub()(x0,x1)\n",
    "\n",
    "Variable.__sub__=sub"
   ]
  },
  {
   "cell_type": "code",
   "execution_count": 11,
   "metadata": {},
   "outputs": [
    {
     "name": "stdout",
     "output_type": "stream",
     "text": [
      "variable(5.0)\n"
     ]
    }
   ],
   "source": [
    "x = Variable(np.array(2.0))\n",
    "y = x+3.0\n",
    "print(y)"
   ]
  },
  {
   "attachments": {},
   "cell_type": "markdown",
   "metadata": {},
   "source": [
    "여기서 중요한 것은 위의 코드는 `y=x0-x1` 계산은 수행할 수 있지만, `x0`이 `Variable` 인스턴스가 아닌 `y=2.0-x` 와 같은 코드 처리는 어렵다.  \n",
    "그 이유는 `2.0`의의`__sub__` 를 호출하려 했으나, 정의되어 있지 않아 `x`의 `__rsub__` 를 호출하려 했지만 이 역시 정의되어 있지 않기 때문이다.  \n",
    "그래서 다음과 같이 추가적으로 구현한다. \n",
    " "
   ]
  },
  {
   "cell_type": "code",
   "execution_count": 12,
   "metadata": {},
   "outputs": [],
   "source": [
    "    \n",
    "def rsub(x0,x1):\n",
    "    x1 = as_array(x1)\n",
    "    return Sub()(x1,x0) # x0 와 x1의 순서를 바꾼다.\n",
    "\n",
    "Variable.__rsub__=rsub"
   ]
  },
  {
   "cell_type": "code",
   "execution_count": 13,
   "metadata": {},
   "outputs": [
    {
     "name": "stdout",
     "output_type": "stream",
     "text": [
      "variable(0.0)\n",
      "variable(1.0)\n"
     ]
    }
   ],
   "source": [
    "x = Variable(np.array(2.0))\n",
    "y1 = 2.0 - x \n",
    "y2 = x - 1.0\n",
    "print(y1)\n",
    "print(y2)"
   ]
  },
  {
   "attachments": {},
   "cell_type": "markdown",
   "metadata": {},
   "source": [
    "### 22.3 나눗셈\n",
    "\n",
    "나눗셈의 미분은 $y=\\frac{x_0}{x_1}$ 일때, $\\begin{bmatrix} \\frac{\\partial y}{\\partial x_0} & \\frac{\\partial y}{\\partial x_1} \\end{bmatrix} =  \\begin{bmatrix} \\frac{1}{x_1} & \\frac{-x_0}{x_1^2} \\end{bmatrix}$ 이다.   \n",
    "나눗셈 역시 뺄셈과 마찬가지로 좌/우항의 순서가 중요하므로,동일한 아이디어로 `__rdiv__` 뿐만 아니라 `__rtruediv__` 도 구현한다. \n"
   ]
  },
  {
   "cell_type": "code",
   "execution_count": 14,
   "metadata": {},
   "outputs": [],
   "source": [
    "class Div(Function):\n",
    "    def forward(self,x0,x1):\n",
    "        y = x0/x1 \n",
    "        return y \n",
    "    \n",
    "    def backward(self, gy):\n",
    "        x0,x1 = self.inputs[0].data,self.inputs[1].data \n",
    "        gx0 = gy / x1 \n",
    "        gx1 = gy * (-x0 / x1 ** 2)\n",
    "        return gx0,gx1\n",
    "    \n",
    "def div(x0,x1):\n",
    "    x1 = as_array(x1)\n",
    "    return Div()(x0,x1)\n",
    "\n",
    "def rdiv(x0,x1):\n",
    "    x1 = as_array(x1)\n",
    "    return Div()(x1,x0) # x0 와 x1의 순서를 바꾼다.\n",
    "\n",
    "Variable.__truediv__=div\n",
    "Variable.__rtruediv__=div"
   ]
  },
  {
   "cell_type": "code",
   "execution_count": 16,
   "metadata": {},
   "outputs": [
    {
     "name": "stdout",
     "output_type": "stream",
     "text": [
      "variable(2.0)\n",
      "variable(0.5)\n"
     ]
    }
   ],
   "source": [
    "x = Variable(np.array(2.0))\n",
    "y1 = 1 / x \n",
    "y2 = x / 4\n",
    "print(y1)\n",
    "print(y2)"
   ]
  },
  {
   "attachments": {},
   "cell_type": "markdown",
   "metadata": {},
   "source": [
    "### 22.4 거듭제곱\n",
    "\n",
    "거듭제곱은 $y=x^c$ 형태로 표현된다. 이때 $\\frac{\\partial y}{\\partial x} = cx^{c-1}$ 이다. 여기서 $\\frac{\\partial y}{\\partial c}$ 의 값도 구할 수 있겠지만, 실전에서는 거의 사용하지 않으므로 제외한다. \n"
   ]
  },
  {
   "cell_type": "code",
   "execution_count": 17,
   "metadata": {},
   "outputs": [],
   "source": [
    "class Pow(Function):\n",
    "    def __init__(self,c) :\n",
    "        self.c= c\n",
    "    def forward(self,x):\n",
    "        y = x ** self.c \n",
    "        return y\n",
    "    \n",
    "    def backward(self, gy):\n",
    "        x = self.inputs[0].data \n",
    "        c = self.c \n",
    "        gx = c * x ** (c-1) * gy \n",
    "        return gx \n",
    "    \n",
    "    \n",
    "def pow(x,c):\n",
    "    return Pow(c)(x)\n",
    "\n",
    "\n",
    "Variable.__pow__=pow"
   ]
  },
  {
   "cell_type": "code",
   "execution_count": 18,
   "metadata": {},
   "outputs": [
    {
     "name": "stdout",
     "output_type": "stream",
     "text": [
      "variable(8.0)\n"
     ]
    }
   ],
   "source": [
    "x = Variable(np.array(2.0))\n",
    "y = x **3\n",
    "print(y)"
   ]
  }
 ],
 "metadata": {
  "kernelspec": {
   "display_name": "DL-torch",
   "language": "python",
   "name": "python3"
  },
  "language_info": {
   "codemirror_mode": {
    "name": "ipython",
    "version": 3
   },
   "file_extension": ".py",
   "mimetype": "text/x-python",
   "name": "python",
   "nbconvert_exporter": "python",
   "pygments_lexer": "ipython3",
   "version": "3.8.12"
  },
  "orig_nbformat": 4,
  "vscode": {
   "interpreter": {
    "hash": "3584091cda227b8e59fda59e5fdf3aec4997f3a2464c55243d7618073e2ad776"
   }
  }
 },
 "nbformat": 4,
 "nbformat_minor": 2
}
