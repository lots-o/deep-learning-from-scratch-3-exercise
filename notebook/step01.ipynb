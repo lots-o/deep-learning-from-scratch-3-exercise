{
 "cells": [
  {
   "attachments": {},
   "cell_type": "markdown",
   "metadata": {},
   "source": [
    "# 제1 고지 : 미분 자동 계산 \n",
    "## STEP 1 : 상자로서의 변수\n",
    "![image.png](../assets/%EA%B7%B8%EB%A6%BC%201-1.png)\n",
    "- 상자 (변수) 와 데이터는 별개다\n",
    "- 상자에는 데이터가 들어간다 (대입 혹은 할당)\n",
    "- 상자 속을 들여다보면 데이터를 알 수 있다. (참조)\n"
   ]
  },
  {
   "cell_type": "code",
   "execution_count": 1,
   "metadata": {},
   "outputs": [],
   "source": [
    "# Variable 클래스를 상자로 사용\n",
    "import torch\n",
    "import numpy as np\n",
    "\n",
    "\n",
    "class Variable:\n",
    "    def __init__(self, data: np.ndarray) -> None:\n",
    "        self.data = data"
   ]
  },
  {
   "cell_type": "code",
   "execution_count": 3,
   "metadata": {},
   "outputs": [
    {
     "name": "stdout",
     "output_type": "stream",
     "text": [
      "Dezero : 1.0 \n",
      "PyTorch : tensor([1.])\n"
     ]
    }
   ],
   "source": [
    "# Dezero ~ Pytorch\n",
    "## Dezero\n",
    "data = np.array(1.0)\n",
    "x = Variable(data)\n",
    "print(f\"Dezero : {x.data} \")\n",
    "\n",
    "## Pytorch\n",
    "x = torch.Tensor([1.0])\n",
    "print(f\"PyTorch : {x.data}\")"
   ]
  }
 ],
 "metadata": {
  "kernelspec": {
   "display_name": "DL-torch",
   "language": "python",
   "name": "python3"
  },
  "language_info": {
   "codemirror_mode": {
    "name": "ipython",
    "version": 3
   },
   "file_extension": ".py",
   "mimetype": "text/x-python",
   "name": "python",
   "nbconvert_exporter": "python",
   "pygments_lexer": "ipython3",
   "version": "3.8.12 | packaged by conda-forge | (default, Oct 12 2021, 21:21:17) \n[Clang 11.1.0 ]"
  },
  "orig_nbformat": 4,
  "vscode": {
   "interpreter": {
    "hash": "3584091cda227b8e59fda59e5fdf3aec4997f3a2464c55243d7618073e2ad776"
   }
  }
 },
 "nbformat": 4,
 "nbformat_minor": 2
}
