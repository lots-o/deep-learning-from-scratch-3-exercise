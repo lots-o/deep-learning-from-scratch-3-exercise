{
 "cells": [
  {
   "attachments": {},
   "cell_type": "markdown",
   "metadata": {},
   "source": [
    "# 제1 고지 : 미분 자동 계산 \n",
    "## STEP 2 : 변수를 낳는 함수\n",
    "![image.png](../assets/%EA%B7%B8%EB%A6%BC%202-1.png)\n",
    "- 함수($f$) : 어떤 변수($x$)부터 다른 변수($y$)로의 대응 관계 \n",
    "- 모든 함수(`Function`)가 공통적으로 제공하는 기능은 다음과 같이 정의 될 수 있다.\n",
    "    - 입력 변수 : `Variable`\n",
    "    - 구체적 계산 : `forward()`\n",
    "    - 출력 변수 : `Variable`\n"
   ]
  },
  {
   "cell_type": "code",
   "execution_count": 2,
   "metadata": {},
   "outputs": [],
   "source": [
    "import torch\n",
    "import numpy as np\n",
    "import torch.nn as nn\n",
    "\n",
    "\n",
    "class Variable:\n",
    "    def __init__(self, data: np.ndarray) -> None:\n",
    "        self.data = data\n",
    "        \n",
    "class Function:\n",
    "    \"\"\"\n",
    "    Function Base Class\n",
    "    \"\"\"\n",
    "\n",
    "    def __call__(self, input: Variable) -> Variable:\n",
    "        x = input.data # 입력 변수 \n",
    "        y = self.forward(x) # 구체적 계산\n",
    "        return Variable(y) # 출력 변수\n",
    "\n",
    "    def forward(self, x):\n",
    "        \"\"\"\n",
    "        구체적인 함수 계산 담당\n",
    "\t\t# NOTE : 0차원의 ndarray 의 경우 np.float64로 변환되는데(넘파이가 의도한 동작) 추후 step09 에서 처리\n",
    "        \"\"\"\n",
    "        raise NotImplementedError\n",
    "\n",
    "\n",
    "class Square(Function):\n",
    "    \"\"\"\n",
    "    y= x ** 2\n",
    "    \"\"\"\n",
    "\n",
    "    def forward(self, x: np.ndarray) -> np.ndarray:\n",
    "        return x**2\n",
    "\n",
    "class Sigmoid(Function):\n",
    "    \"\"\"\n",
    "    y = 1 / (1 + e ^(-x))\n",
    "    \"\"\"\n",
    "\n",
    "    def forward(self, x: np.ndarray) -> np.ndarray:\n",
    "        return 1 / (1 + np.exp(-x))"
   ]
  },
  {
   "cell_type": "code",
   "execution_count": 3,
   "metadata": {},
   "outputs": [
    {
     "name": "stdout",
     "output_type": "stream",
     "text": [
      "<class '__main__.Variable'>\n",
      "100\n"
     ]
    }
   ],
   "source": [
    "# Dezero\n",
    "x = Variable(np.array(10))\n",
    "f = Square()\n",
    "y = f(x)\n",
    "print(type(y))\n",
    "print(y.data)"
   ]
  },
  {
   "cell_type": "code",
   "execution_count": 4,
   "metadata": {},
   "outputs": [
    {
     "name": "stdout",
     "output_type": "stream",
     "text": [
      "Dezero : 0.7310585786300049\n",
      "PyTorch : tensor([0.7311])\n"
     ]
    }
   ],
   "source": [
    "# Dezero ~ Pytorch\n",
    "## Dezero\n",
    "x = Variable(np.array(1))\n",
    "f = Sigmoid()\n",
    "y = f(x)\n",
    "print(f\"Dezero : {y.data}\") \n",
    "\n",
    "## Pytorch\n",
    "x = torch.Tensor([1])\n",
    "f = nn.Sigmoid()\n",
    "y = f(x)\n",
    "print(f\"PyTorch : {y.data}\")"
   ]
  }
 ],
 "metadata": {
  "kernelspec": {
   "display_name": "DL-torch",
   "language": "python",
   "name": "python3"
  },
  "language_info": {
   "codemirror_mode": {
    "name": "ipython",
    "version": 3
   },
   "file_extension": ".py",
   "mimetype": "text/x-python",
   "name": "python",
   "nbconvert_exporter": "python",
   "pygments_lexer": "ipython3",
   "version": "3.8.12"
  },
  "orig_nbformat": 4,
  "vscode": {
   "interpreter": {
    "hash": "3584091cda227b8e59fda59e5fdf3aec4997f3a2464c55243d7618073e2ad776"
   }
  }
 },
 "nbformat": 4,
 "nbformat_minor": 2
}
