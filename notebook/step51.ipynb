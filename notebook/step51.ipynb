{
 "cells": [
  {
   "attachments": {},
   "cell_type": "markdown",
   "metadata": {},
   "source": [
    "# 제4 고지 : 신경망 만들기 \n",
    "## STEP 51 : MNIST 학습\n",
    "\n",
    "<p align='center'>\n",
    "  <img src='../assets/그림 51-1.png' align='center' width='50%'>\n",
    "</p>\n",
    "\n",
    "이전에 구현한 `Dataset` 에서 미니배치 단위로 데이터를 꺼내는 `DataLoader`의 관계는 위의 그림과 같다.\n",
    "이번 단계에서는 위의 데이터셋 구조를 활용하여 새로운 데이터셋을 학습해본다.  \n",
    "우선  MNIST 데이터셋이 무엇인지 부터 간략하게 살펴보자.\n",
    "\n",
    "### 51.1 MNIST 데이터셋\n",
    "\n",
    "`dezero/dataset.py` 에 MNIST 클래스를 이용해서 구체적으로 살펴보자. \n"
   ]
  },
  {
   "cell_type": "code",
   "execution_count": 1,
   "metadata": {},
   "outputs": [
    {
     "name": "stdout",
     "output_type": "stream",
     "text": [
      "60000\n",
      "10000\n",
      "<class 'numpy.ndarray'> (1, 28, 28)\n",
      "5\n"
     ]
    },
    {
     "data": {
      "image/png": "[encoded data removed]",
      "text/plain": [
       "<Figure size 432x288 with 1 Axes>"
      ]
     },
     "metadata": {
      "needs_background": "light"
     },
     "output_type": "display_data"
    }
   ],
   "source": [
    "import sys\n",
    "sys.path.append(\"..\")\n",
    "\n",
    "import dezero\n",
    "import matplotlib.pyplot as plt\n",
    "\n",
    "train_set = dezero.datasets.MNIST(train=True,transform=None)\n",
    "test_set = dezero.datasets.MNIST(train=False,transform=None)\n",
    "\n",
    "print(len(train_set))\n",
    "print(len(test_set))\n",
    "\n",
    "x,t = train_set[0]\n",
    "print(type(x),x.shape)\n",
    "print(t)\n",
    "\n",
    "\n",
    "# 데이터 예시 \n",
    "plt.imshow(x.reshape(28,28),cmap=\"gray\")\n",
    "plt.title(f\"label:{t}\")\n",
    "plt.show()\n"
   ]
  },
  {
   "cell_type": "markdown",
   "metadata": {},
   "source": [
    "해당 이미지를 신경망에 넣기 전 입력데이터를  다음 세 가지를 전처리한다.\n",
    "\n",
    "1. (1,28,28) 형상 입력 데이터를 `flatten`하여 **(784,)** 형상으로 변환\n",
    "2. 데이터 타입을 **np.float32 로 변환**한다.\n",
    "3. `x /= 255.0` 를 통해 **0.0 ~ 1.0** 사이가 되도록 한다.\n",
    "\n",
    "<span style='background-color : #ffdce0'>💡<b>해당 전처리는 `MNIST` 클래스에 기본적으로 설정되어 있다. </b></span>\n"
   ]
  },
  {
   "cell_type": "markdown",
   "metadata": {},
   "source": [
    "### 51.2 MNIST 학습하기 "
   ]
  },
  {
   "cell_type": "code",
   "execution_count": 2,
   "metadata": {},
   "outputs": [
    {
     "name": "stdout",
     "output_type": "stream",
     "text": [
      "epoch 1, loss 1.93, acc 0.54\n",
      "test loss 1.56, acc 0.74\n",
      "epoch 2, loss 1.30, acc 0.77\n",
      "test loss 1.06, acc 0.81\n",
      "epoch 3, loss 0.93, acc 0.82\n",
      "test loss 0.80, acc 0.84\n",
      "epoch 4, loss 0.75, acc 0.84\n",
      "test loss 0.66, acc 0.86\n",
      "epoch 5, loss 0.64, acc 0.85\n",
      "test loss 0.58, acc 0.86\n"
     ]
    }
   ],
   "source": [
    "import sys\n",
    "sys.path.append(\"..\")\n",
    "\n",
    "import dezero\n",
    "from dezero import optimizers,DataLoader\n",
    "import dezero.functions as F\n",
    "from dezero.models import MLP\n",
    "\n",
    "\n",
    "log_interval = 1 # 20 epoch 마다 logging\n",
    "\n",
    "# 하이퍼 파라미터 설정\n",
    "######################################\n",
    "max_epoch = 5\n",
    "batch_size = 100\n",
    "hidden_size = 1000\n",
    "######################################\n",
    "\n",
    "# 데이터 읽기 / 모델, 옵티마이저 생성\n",
    "######################################\n",
    "train_set = dezero.datasets.MNIST(train=True)\n",
    "test_set = dezero.datasets.MNIST(train=False)\n",
    "train_loader = DataLoader(train_set,batch_size)\n",
    "test_loader = DataLoader(test_set,batch_size,shuffle=False) # 테스트 데이터는 평가용이므로 shuffle=False\n",
    "######################################\n",
    "\n",
    "\n",
    "model = MLP((hidden_size, 10))\n",
    "optimizer = optimizers.SGD().setup(model)\n",
    "\n",
    "\n",
    "\n",
    "for epoch in range(max_epoch):\n",
    "    sum_loss,sum_acc = 0,0\n",
    "\n",
    "    for x,t in train_loader : # 미니배치 \n",
    "        # 기울기 산출 / 매개변수 갱신\n",
    "        y = model(x)\n",
    "        loss = F.softmax_cross_entropy(y, t)\n",
    "        acc = F.accuracy(y,t) # 정확도 계산\n",
    "        model.cleargrads()\n",
    "        loss.backward()\n",
    "        optimizer.update()\n",
    "\n",
    "        sum_loss += float(loss.data) * len(t)\n",
    "        sum_acc +=float(acc.data) * len(t) \n",
    "\n",
    "    # 에폭마다 학습 경과 출력\n",
    "    avg_loss = sum_loss / len(train_set)\n",
    "    avg_acc = sum_acc / len(train_set)\n",
    "    if epoch % log_interval == 0:\n",
    "        print('epoch %d, loss %.2f, acc %.2f' % (epoch + 1, avg_loss,avg_acc))\n",
    "        \n",
    "    sum_loss, sum_acc = 0,0\n",
    "    with dezero.no_grad():\n",
    "        for x,t in test_loader:\n",
    "            # 기울기 산출 / 매개변수 갱신\n",
    "            y = model(x)\n",
    "            loss = F.softmax_cross_entropy(y, t)\n",
    "            acc = F.accuracy(y,t) # 정확도 계산\n",
    "\n",
    "            sum_loss += float(loss.data) * len(t)\n",
    "            sum_acc +=float(acc.data) * len(t) \n",
    "            \n",
    "    avg_loss = sum_loss / len(test_set)\n",
    "    avg_acc = sum_acc / len(test_set)\n",
    "    if epoch % log_interval == 0:\n",
    "        print('test loss %.2f, acc %.2f' % (avg_loss,avg_acc))"
   ]
  },
  {
   "cell_type": "markdown",
   "metadata": {},
   "source": [
    "### 51.3 모델 개선하기 \n",
    "\n",
    "방금 학습한 모델 `MLP`의 활성화 함수는 **sigmoid** 함수였다. 그런데 최근에는 **ReLU(Rectified Linear Unit)** 라는 함수가 더 자주 사용되는데, 해당 함수는 다음 특징을 가진다.\n",
    "$$\n",
    "f(x) = \\begin{cases}\n",
    "x, & \\text{if } x > 0 \\\\\n",
    "0, & \\text{otherwise}\n",
    "\\end{cases}\n",
    "$$\n",
    "\n",
    "- 입력이 0보다 크면 그대로 출력\n",
    "- 입력이 0 이하면 0을 출력\n",
    "\n",
    "<span style='background-color : #ffdce0'>💡<b>즉, ReLU는 신호를 `통과` 또는 `봉쇄` 한다.</b></span>\n",
    "\n",
    "그래서 해당 함수를 구현해보자.\n",
    "\n",
    "```python\n",
    "class ReLU(Function):\n",
    "    def forward(self, x):\n",
    "        y = np.maximum(x, 0.0) # 1. x 와 0.0 중 큰 값을 반환.\n",
    "        return y\n",
    "\n",
    "    def backward(self, gy):\n",
    "        x, = self.inputs\n",
    "        mask = x.data > 0 # 2. 0 보다 큰 값은 그대로 기울기를 흘려보내주고, 이하면 기울기를 0으로 설정하는 mask\n",
    "        gx = gy * mask # 3. 기울기 곱\n",
    "        return gx\n",
    "\n",
    "def relu(x):\n",
    "    return ReLU()(x)\n",
    "\n",
    "```\n"
   ]
  },
  {
   "cell_type": "code",
   "execution_count": 4,
   "metadata": {},
   "outputs": [
    {
     "name": "stdout",
     "output_type": "stream",
     "text": [
      "epoch 1, loss 0.23, acc 0.93\n",
      "test loss 0.11, acc 0.97\n",
      "epoch 2, loss 0.09, acc 0.97\n",
      "test loss 0.08, acc 0.98\n",
      "epoch 3, loss 0.05, acc 0.98\n",
      "test loss 0.07, acc 0.98\n",
      "epoch 4, loss 0.04, acc 0.99\n",
      "test loss 0.07, acc 0.98\n",
      "epoch 5, loss 0.03, acc 0.99\n",
      "test loss 0.06, acc 0.98\n"
     ]
    }
   ],
   "source": [
    "import sys\n",
    "sys.path.append(\"..\")\n",
    "\n",
    "import dezero\n",
    "from dezero import optimizers,DataLoader\n",
    "import dezero.functions as F\n",
    "from dezero.models import MLP\n",
    "\n",
    "\n",
    "log_interval = 1 # 20 epoch 마다 logging\n",
    "\n",
    "# 하이퍼 파라미터 설정\n",
    "max_epoch = 5\n",
    "batch_size = 100\n",
    "hidden_size = 1000\n",
    "\n",
    "# 데이터 읽기 / 모델, 옵티마이저 생성\n",
    "train_set = dezero.datasets.MNIST(train=True)\n",
    "test_set = dezero.datasets.MNIST(train=False)\n",
    "train_loader = DataLoader(train_set,batch_size)\n",
    "test_loader = DataLoader(test_set,batch_size,shuffle=False) # 테스트 데이터는 평가용이므로 shuffle=False\n",
    "\n",
    "######################################\n",
    "# activation, optimizer  변경\n",
    "model = MLP((hidden_size, 10),activation=F.relu)\n",
    "optimizer = optimizers.Adam().setup(model)\n",
    "######################################\n",
    "\n",
    "\n",
    "\n",
    "\n",
    "for epoch in range(max_epoch):\n",
    "    sum_loss,sum_acc = 0,0\n",
    "\n",
    "    for x,t in train_loader : # 미니배치 \n",
    "        # 기울기 산출 / 매개변수 갱신\n",
    "        y = model(x)\n",
    "        loss = F.softmax_cross_entropy(y, t)\n",
    "        acc = F.accuracy(y,t) # 정확도 계산\n",
    "        model.cleargrads()\n",
    "        loss.backward()\n",
    "        optimizer.update()\n",
    "\n",
    "        sum_loss += float(loss.data) * len(t)\n",
    "        sum_acc +=float(acc.data) * len(t) \n",
    "\n",
    "    # 에폭마다 학습 경과 출력\n",
    "    avg_loss = sum_loss / len(train_set)\n",
    "    avg_acc = sum_acc / len(train_set)\n",
    "    if epoch % log_interval == 0:\n",
    "        print('epoch %d, loss %.2f, acc %.2f' % (epoch + 1, avg_loss,avg_acc))\n",
    "        \n",
    "    sum_loss, sum_acc = 0,0\n",
    "    with dezero.no_grad():\n",
    "        for x,t in test_loader:\n",
    "            # 기울기 산출 / 매개변수 갱신\n",
    "            y = model(x)\n",
    "            loss = F.softmax_cross_entropy(y, t)\n",
    "            acc = F.accuracy(y,t) # 정확도 계산\n",
    "\n",
    "            sum_loss += float(loss.data) * len(t)\n",
    "            sum_acc +=float(acc.data) * len(t) \n",
    "            \n",
    "    avg_loss = sum_loss / len(test_set)\n",
    "    avg_acc = sum_acc / len(test_set)\n",
    "    if epoch % log_interval == 0:\n",
    "        print('test loss %.2f, acc %.2f' % (avg_loss,avg_acc))"
   ]
  }
 ],
 "metadata": {
  "kernelspec": {
   "display_name": "DL-torch",
   "language": "python",
   "name": "python3"
  },
  "language_info": {
   "codemirror_mode": {
    "name": "ipython",
    "version": 3
   },
   "file_extension": ".py",
   "mimetype": "text/x-python",
   "name": "python",
   "nbconvert_exporter": "python",
   "pygments_lexer": "ipython3",
   "version": "3.8.12"
  },
  "orig_nbformat": 4,
  "vscode": {
   "interpreter": {
    "hash": "3584091cda227b8e59fda59e5fdf3aec4997f3a2464c55243d7618073e2ad776"
   }
  }
 },
 "nbformat": 4,
 "nbformat_minor": 2
}
